{
 "cells": [
  {
   "cell_type": "code",
   "execution_count": 1,
   "id": "6b1453e7",
   "metadata": {},
   "outputs": [
    {
     "name": "stdout",
     "output_type": "stream",
     "text": [
      "WARNING:tensorflow:From c:\\Users\\SANTI\\Downloads\\Virtual_Environments\\python\\lib\\site-packages\\keras\\src\\losses.py:2976: The name tf.losses.sparse_softmax_cross_entropy is deprecated. Please use tf.compat.v1.losses.sparse_softmax_cross_entropy instead.\n",
      "\n"
     ]
    }
   ],
   "source": [
    "# Importation\n",
    "import os\n",
    "import numpy as np\n",
    "import librosa\n",
    "import librosa.display\n",
    "import matplotlib.pyplot as plt\n",
    "from sklearn.model_selection import train_test_split\n",
    "from sklearn.preprocessing import LabelEncoder\n",
    "import tensorflow as tf\n",
    "from tensorflow.keras import layers, models\n",
    "from tensorflow.keras.callbacks import EarlyStopping\n",
    "from sklearn.utils.class_weight import compute_class_weight"
   ]
  },
  {
   "cell_type": "code",
   "execution_count": 2,
   "id": "863e542f",
   "metadata": {},
   "outputs": [],
   "source": [
    "# Paramètres généraux de la base de données\n",
    "\n",
    "Data_Dir = \"C:\\\\Users\\\\SANTI\\\\Downloads\\\\Virtual_Environments\\\\python\\\\Projet3_streamlit\\\\Data_audio\\\\asthma\" \n",
    "SAMPLE_RATE = 22050\n",
    "N_MELS = 128\n",
    "MAX_LEN = 128  # Initialisation de la longueur fixe des spectrogrammes"
   ]
  },
  {
   "cell_type": "code",
   "execution_count": 3,
   "id": "d8803fc6",
   "metadata": {},
   "outputs": [],
   "source": [
    "# Fonction d'augmentation de la base de données d'audios :\n",
    "# - Ajout de bruit blanc léger\n",
    "# - Décalage temporel (time shift)\n",
    "# - Modification du pitch (pitch shift)\n",
    "# - Changement léger de vitesse (time stretch)\n",
    "\n",
    "def augment_audio(y, sr):\n",
    "    choice = np.random.choice([\"noise\", \"shift\", \"pitch\", \"stretch\"])\n",
    "    \n",
    "    if choice == \"noise\":\n",
    "        noise = np.random.randn(len(y))\n",
    "        y = y + 0.005 * noise\n",
    "    \n",
    "    elif choice == \"shift\":\n",
    "        shift = np.random.randint(sr//10)  # décalage <= 0.1s\n",
    "        y = np.roll(y, shift)\n",
    "    \n",
    "    elif choice == \"pitch\":\n",
    "        n_steps = np.random.randint(-2, 3)  # décalage en demi-tons\n",
    "        # On fait un pitch shifting via resampling\n",
    "        rate = 2.0 ** (n_steps / 12.0)\n",
    "        y = librosa.resample(y, orig_sr=sr, target_sr=int(sr * rate))\n",
    "    \n",
    "    elif choice == \"stretch\":\n",
    "        rate = np.random.uniform(0.8, 1.2)\n",
    "        y = librosa.resample(y, orig_sr=sr, target_sr=int(sr * rate))\n",
    "    \n",
    "    return y"
   ]
  },
  {
   "cell_type": "code",
   "execution_count": 4,
   "id": "efacb73e",
   "metadata": {},
   "outputs": [],
   "source": [
    "# Fonction de conversion des audios en melspectrogrammes\n",
    "\n",
    "def audio_to_mel(file_path, n_mels=N_MELS, max_len=MAX_LEN, augment=False):\n",
    "    y, sr = librosa.load(file_path, sr=SAMPLE_RATE)\n",
    "    \n",
    "    # Appliquer augmentation si demandé\n",
    "    if augment:\n",
    "        y = augment_audio(y, sr)\n",
    "    \n",
    "    mel = librosa.feature.melspectrogram(y=y, sr=sr, n_mels=n_mels)\n",
    "    mel_db = librosa.power_to_db(mel, ref=np.max)\n",
    "    \n",
    "    # Normalisation [0,1]\n",
    "    mel_db = (mel_db - mel_db.min()) / (mel_db.max() - mel_db.min())\n",
    "    \n",
    "    # Ajustement de la taille\n",
    "    if mel_db.shape[1] < max_len:\n",
    "        pad_width = max_len - mel_db.shape[1]\n",
    "        mel_db = np.pad(mel_db, pad_width=((0,0),(0,pad_width)), mode='constant')\n",
    "    else:\n",
    "        mel_db = mel_db[:, :max_len]\n",
    "    \n",
    "    return mel_db"
   ]
  },
  {
   "cell_type": "code",
   "execution_count": 5,
   "id": "5e98cba7",
   "metadata": {},
   "outputs": [
    {
     "name": "stdout",
     "output_type": "stream",
     "text": [
      "Shape des données : (818, 128, 128) (818,)\n"
     ]
    }
   ],
   "source": [
    "# Chargement du dataset\n",
    "\n",
    "X = []\n",
    "y = []\n",
    "\n",
    "classes = [\"Normal\", \"Asthmatique\"]\n",
    "for label in classes:\n",
    "    folder = os.path.join(Data_Dir, label)\n",
    "    for file in os.listdir(folder):\n",
    "        if file.endswith(\".wav\") or file.endswith(\".mp3\"):\n",
    "            path = os.path.join(folder, file)\n",
    "            # version originale\n",
    "            mel = audio_to_mel(path, augment=False)\n",
    "            X.append(mel)\n",
    "            y.append(label)\n",
    "            # version augmentée (on double le dataset artificiellement)\n",
    "            mel_aug = audio_to_mel(path, augment=True)\n",
    "            X.append(mel_aug)\n",
    "            y.append(label)\n",
    "\n",
    "X = np.array(X)\n",
    "y = np.array(y)\n",
    "\n",
    "print(\"Shape des données :\", X.shape, y.shape)"
   ]
  },
  {
   "cell_type": "code",
   "execution_count": 6,
   "id": "7a50de4e",
   "metadata": {},
   "outputs": [
    {
     "name": "stdout",
     "output_type": "stream",
     "text": [
      "Train : (654, 128, 128, 1) (654,)\n",
      "Test : (164, 128, 128, 1) (164,)\n"
     ]
    }
   ],
   "source": [
    "# Préparation des données\n",
    "\n",
    "X = X[..., np.newaxis]  # ajout d'un canal\n",
    "\n",
    "encoder = LabelEncoder()\n",
    "y = encoder.fit_transform(y)\n",
    "\n",
    "X_train, X_test, y_train, y_test = train_test_split(\n",
    "    X, y, test_size=0.2, stratify=y, random_state=42\n",
    ")\n",
    "\n",
    "print(\"Train :\", X_train.shape, y_train.shape)\n",
    "print(\"Test :\", X_test.shape, y_test.shape)"
   ]
  },
  {
   "cell_type": "code",
   "execution_count": 7,
   "id": "c0f977af",
   "metadata": {},
   "outputs": [
    {
     "name": "stdout",
     "output_type": "stream",
     "text": [
      "Class Weights: {0: 0.8582677165354331, 1: 1.1978021978021978}\n"
     ]
    }
   ],
   "source": [
    "# Calcul des poids de classes\n",
    "\n",
    "class_weights = compute_class_weight(\n",
    "    class_weight=\"balanced\",\n",
    "    classes=np.unique(y_train),\n",
    "    y=y_train\n",
    ")\n",
    "class_weights = dict(enumerate(class_weights))\n",
    "print(\"Class Weights:\", class_weights)"
   ]
  },
  {
   "cell_type": "code",
   "execution_count": 8,
   "id": "8a811a8f",
   "metadata": {},
   "outputs": [
    {
     "name": "stdout",
     "output_type": "stream",
     "text": [
      "WARNING:tensorflow:From c:\\Users\\SANTI\\Downloads\\Virtual_Environments\\python\\lib\\site-packages\\keras\\src\\backend.py:873: The name tf.get_default_graph is deprecated. Please use tf.compat.v1.get_default_graph instead.\n",
      "\n",
      "WARNING:tensorflow:From c:\\Users\\SANTI\\Downloads\\Virtual_Environments\\python\\lib\\site-packages\\keras\\src\\layers\\pooling\\max_pooling2d.py:161: The name tf.nn.max_pool is deprecated. Please use tf.nn.max_pool2d instead.\n",
      "\n",
      "WARNING:tensorflow:From c:\\Users\\SANTI\\Downloads\\Virtual_Environments\\python\\lib\\site-packages\\keras\\src\\optimizers\\__init__.py:309: The name tf.train.Optimizer is deprecated. Please use tf.compat.v1.train.Optimizer instead.\n",
      "\n",
      "Model: \"sequential\"\n",
      "_________________________________________________________________\n",
      " Layer (type)                Output Shape              Param #   \n",
      "=================================================================\n",
      " conv2d (Conv2D)             (None, 126, 126, 16)      160       \n",
      "                                                                 \n",
      " max_pooling2d (MaxPooling2  (None, 63, 63, 16)        0         \n",
      " D)                                                              \n",
      "                                                                 \n",
      " conv2d_1 (Conv2D)           (None, 61, 61, 32)        4640      \n",
      "                                                                 \n",
      " max_pooling2d_1 (MaxPoolin  (None, 30, 30, 32)        0         \n",
      " g2D)                                                            \n",
      "                                                                 \n",
      " conv2d_2 (Conv2D)           (None, 28, 28, 64)        18496     \n",
      "                                                                 \n",
      " max_pooling2d_2 (MaxPoolin  (None, 14, 14, 64)        0         \n",
      " g2D)                                                            \n",
      "                                                                 \n",
      " conv2d_3 (Conv2D)           (None, 12, 12, 128)       73856     \n",
      "                                                                 \n",
      " max_pooling2d_3 (MaxPoolin  (None, 6, 6, 128)         0         \n",
      " g2D)                                                            \n",
      "                                                                 \n",
      " flatten (Flatten)           (None, 4608)              0         \n",
      "                                                                 \n",
      " dense (Dense)               (None, 128)               589952    \n",
      "                                                                 \n",
      " dropout (Dropout)           (None, 128)               0         \n",
      "                                                                 \n",
      " dense_1 (Dense)             (None, 1)                 129       \n",
      "                                                                 \n",
      "=================================================================\n",
      "Total params: 687233 (2.62 MB)\n",
      "Trainable params: 687233 (2.62 MB)\n",
      "Non-trainable params: 0 (0.00 Byte)\n",
      "_________________________________________________________________\n"
     ]
    }
   ],
   "source": [
    "DL_Model = models.Sequential([\n",
    "    layers.Conv2D(16, (3,3), activation='relu', input_shape=(N_MELS, MAX_LEN, 1)),\n",
    "    layers.MaxPooling2D((2,2)),\n",
    "    layers.Conv2D(32, (3,3), activation='relu'),\n",
    "    layers.MaxPooling2D((2,2)),\n",
    "    layers.Conv2D(64, (3,3), activation='relu'),\n",
    "    layers.MaxPooling2D((2,2)),\n",
    "    layers.Conv2D(128, (3,3), activation='relu'),\n",
    "    layers.MaxPooling2D((2,2)),\n",
    "    layers.Flatten(),\n",
    "    layers.Dense(128, activation='relu'),\n",
    "    layers.Dropout(0.5),\n",
    "    layers.Dense(1, activation='sigmoid')\n",
    "])\n",
    "\n",
    "DL_Model.compile(optimizer='adam', loss='binary_crossentropy', metrics=['accuracy'])\n",
    "DL_Model.summary()"
   ]
  },
  {
   "cell_type": "code",
   "execution_count": 9,
   "id": "ce00b2a4",
   "metadata": {},
   "outputs": [],
   "source": [
    "# Callback EarlyStopping\n",
    "\n",
    "early_stop = EarlyStopping(monitor='val_loss', patience=10, restore_best_weights=True)"
   ]
  },
  {
   "cell_type": "code",
   "execution_count": 10,
   "id": "7017248b",
   "metadata": {},
   "outputs": [
    {
     "name": "stdout",
     "output_type": "stream",
     "text": [
      "Epoch 1/50\n",
      "WARNING:tensorflow:From c:\\Users\\SANTI\\Downloads\\Virtual_Environments\\python\\lib\\site-packages\\keras\\src\\utils\\tf_utils.py:492: The name tf.ragged.RaggedTensorValue is deprecated. Please use tf.compat.v1.ragged.RaggedTensorValue instead.\n",
      "\n",
      "WARNING:tensorflow:From c:\\Users\\SANTI\\Downloads\\Virtual_Environments\\python\\lib\\site-packages\\keras\\src\\engine\\base_layer_utils.py:384: The name tf.executing_eagerly_outside_functions is deprecated. Please use tf.compat.v1.executing_eagerly_outside_functions instead.\n",
      "\n",
      "33/33 [==============================] - 5s 101ms/step - loss: 0.4823 - accuracy: 0.8069 - val_loss: 0.2700 - val_accuracy: 0.8931\n",
      "Epoch 2/50\n",
      "33/33 [==============================] - 5s 151ms/step - loss: 0.3477 - accuracy: 0.8394 - val_loss: 0.2700 - val_accuracy: 0.8855\n",
      "Epoch 3/50\n",
      "33/33 [==============================] - 5s 162ms/step - loss: 0.3062 - accuracy: 0.8700 - val_loss: 0.2410 - val_accuracy: 0.9237\n",
      "Epoch 4/50\n",
      "33/33 [==============================] - 6s 174ms/step - loss: 0.2993 - accuracy: 0.8662 - val_loss: 0.2386 - val_accuracy: 0.9084\n",
      "Epoch 5/50\n",
      "33/33 [==============================] - 4s 127ms/step - loss: 0.2900 - accuracy: 0.8834 - val_loss: 0.2023 - val_accuracy: 0.9313\n",
      "Epoch 6/50\n",
      "33/33 [==============================] - 4s 128ms/step - loss: 0.2693 - accuracy: 0.8853 - val_loss: 0.2298 - val_accuracy: 0.9084\n",
      "Epoch 7/50\n",
      "33/33 [==============================] - 3s 92ms/step - loss: 0.2841 - accuracy: 0.8757 - val_loss: 0.2075 - val_accuracy: 0.9237\n",
      "Epoch 8/50\n",
      "33/33 [==============================] - 3s 95ms/step - loss: 0.2749 - accuracy: 0.8872 - val_loss: 0.1933 - val_accuracy: 0.9313\n",
      "Epoch 9/50\n",
      "33/33 [==============================] - 3s 92ms/step - loss: 0.2468 - accuracy: 0.8929 - val_loss: 0.1879 - val_accuracy: 0.9237\n",
      "Epoch 10/50\n",
      "33/33 [==============================] - 3s 91ms/step - loss: 0.2394 - accuracy: 0.8929 - val_loss: 0.1891 - val_accuracy: 0.9160\n",
      "Epoch 11/50\n",
      "33/33 [==============================] - 3s 92ms/step - loss: 0.2092 - accuracy: 0.9006 - val_loss: 0.2411 - val_accuracy: 0.9008\n",
      "Epoch 12/50\n",
      "33/33 [==============================] - 3s 91ms/step - loss: 0.2074 - accuracy: 0.9025 - val_loss: 0.2433 - val_accuracy: 0.9084\n",
      "Epoch 13/50\n",
      "33/33 [==============================] - 3s 99ms/step - loss: 0.2060 - accuracy: 0.9101 - val_loss: 0.2124 - val_accuracy: 0.9160\n",
      "Epoch 14/50\n",
      "33/33 [==============================] - 3s 89ms/step - loss: 0.1929 - accuracy: 0.9120 - val_loss: 0.2271 - val_accuracy: 0.9008\n",
      "Epoch 15/50\n",
      "33/33 [==============================] - 3s 93ms/step - loss: 0.1786 - accuracy: 0.9235 - val_loss: 0.2668 - val_accuracy: 0.8855\n",
      "Epoch 16/50\n",
      "33/33 [==============================] - 3s 88ms/step - loss: 0.1882 - accuracy: 0.9159 - val_loss: 0.2674 - val_accuracy: 0.9084\n",
      "Epoch 17/50\n",
      "33/33 [==============================] - 3s 95ms/step - loss: 0.1606 - accuracy: 0.9273 - val_loss: 0.2916 - val_accuracy: 0.8931\n",
      "Epoch 18/50\n",
      "33/33 [==============================] - 3s 98ms/step - loss: 0.1514 - accuracy: 0.9178 - val_loss: 0.2656 - val_accuracy: 0.8931\n",
      "Epoch 19/50\n",
      "33/33 [==============================] - 3s 95ms/step - loss: 0.1333 - accuracy: 0.9293 - val_loss: 0.3930 - val_accuracy: 0.8931\n"
     ]
    }
   ],
   "source": [
    "# Entraînement du CNN\n",
    "\n",
    "history = DL_Model.fit(\n",
    "    X_train, y_train,\n",
    "    validation_split=0.2,\n",
    "    epochs=50,\n",
    "    batch_size=16,\n",
    "    class_weight=class_weights,\n",
    "    callbacks=[early_stop]\n",
    ")"
   ]
  },
  {
   "cell_type": "code",
   "execution_count": 12,
   "id": "49d306de",
   "metadata": {},
   "outputs": [
    {
     "name": "stdout",
     "output_type": "stream",
     "text": [
      "Test Accuracy: 0.8902\n",
      "Test Loss: 0.2356\n",
      "6/6 [==============================] - 0s 46ms/step\n",
      "\n",
      "Classification Report :\n",
      "\n",
      "              precision    recall  f1-score   support\n",
      "\n",
      "      Normal       0.58      1.00      0.73        95\n",
      " Asthmatique       0.00      0.00      0.00        69\n",
      "\n",
      "    accuracy                           0.58       164\n",
      "   macro avg       0.29      0.50      0.37       164\n",
      "weighted avg       0.34      0.58      0.42       164\n",
      "\n"
     ]
    },
    {
     "name": "stderr",
     "output_type": "stream",
     "text": [
      "c:\\Users\\SANTI\\Downloads\\Virtual_Environments\\python\\lib\\site-packages\\sklearn\\metrics\\_classification.py:1565: UndefinedMetricWarning: Precision is ill-defined and being set to 0.0 in labels with no predicted samples. Use `zero_division` parameter to control this behavior.\n",
      "  _warn_prf(average, modifier, f\"{metric.capitalize()} is\", len(result))\n",
      "c:\\Users\\SANTI\\Downloads\\Virtual_Environments\\python\\lib\\site-packages\\sklearn\\metrics\\_classification.py:1565: UndefinedMetricWarning: Precision is ill-defined and being set to 0.0 in labels with no predicted samples. Use `zero_division` parameter to control this behavior.\n",
      "  _warn_prf(average, modifier, f\"{metric.capitalize()} is\", len(result))\n",
      "c:\\Users\\SANTI\\Downloads\\Virtual_Environments\\python\\lib\\site-packages\\sklearn\\metrics\\_classification.py:1565: UndefinedMetricWarning: Precision is ill-defined and being set to 0.0 in labels with no predicted samples. Use `zero_division` parameter to control this behavior.\n",
      "  _warn_prf(average, modifier, f\"{metric.capitalize()} is\", len(result))\n"
     ]
    },
    {
     "data": {
      "image/png": "[encoded data removed]",
      "text/plain": [
       "<Figure size 600x500 with 2 Axes>"
      ]
     },
     "metadata": {},
     "output_type": "display_data"
    }
   ],
   "source": [
    "from sklearn.metrics import classification_report, confusion_matrix\n",
    "import seaborn as sns\n",
    "import matplotlib.pyplot as plt\n",
    "\n",
    "# Évaluation globale\n",
    "test_loss, test_acc = DL_Model.evaluate(X_test, y_test, verbose=0)\n",
    "print(f\"Test Accuracy: {test_acc:.4f}\")\n",
    "print(f\"Test Loss: {test_loss:.4f}\")\n",
    "\n",
    "# Prédictions\n",
    "y_pred_probs = DL_Model.predict(X_test)\n",
    "y_pred = np.argmax(y_pred_probs, axis=1)\n",
    "\n",
    "# Rapport de classification\n",
    "print(\"\\nClassification Report :\\n\")\n",
    "print(classification_report(y_test, y_pred, target_names=classes))\n",
    "\n",
    "# Matrice de confusion\n",
    "cm = confusion_matrix(y_test, y_pred)\n",
    "plt.figure(figsize=(6,5))\n",
    "sns.heatmap(cm, annot=True, fmt=\"d\", cmap=\"Blues\",\n",
    "            xticklabels=classes, yticklabels=classes)\n",
    "plt.xlabel(\"Prédit\")\n",
    "plt.ylabel(\"Réel\")\n",
    "plt.title(\"Matrice de confusion\")\n",
    "plt.show()\n"
   ]
  },
  {
   "cell_type": "code",
   "execution_count": null,
   "id": "637b7aed",
   "metadata": {},
   "outputs": [
    {
     "data": {
      "image/png": "[encoded data removed]",
      "text/plain": [
       "<Figure size 1200x500 with 2 Axes>"
      ]
     },
     "metadata": {},
     "output_type": "display_data"
    }
   ],
   "source": [
    "# Courbes d'entraînement\n",
    "\n",
    "plt.figure(figsize=(12,4))\n",
    "\n",
    "plt.subplot(1,2,1)\n",
    "plt.plot(history.history['loss'], label='train loss')\n",
    "plt.plot(history.history['val_loss'], label='val loss')\n",
    "plt.legend()\n",
    "plt.title(\"Courbe de Loss\")\n",
    "\n",
    "plt.subplot(1,2,2)\n",
    "plt.plot(history.history['accuracy'], label='train acc')\n",
    "plt.plot(history.history['val_accuracy'], label='val acc')\n",
    "plt.legend()\n",
    "plt.title(\"Courbe d'Accuracy\")\n",
    "\n",
    "plt.show()"
   ]
  },
  {
   "cell_type": "code",
   "execution_count": 13,
   "id": "85343a27",
   "metadata": {},
   "outputs": [
    {
     "name": "stderr",
     "output_type": "stream",
     "text": [
      "c:\\Users\\SANTI\\Downloads\\Virtual_Environments\\python\\lib\\site-packages\\keras\\src\\engine\\training.py:3103: UserWarning: You are saving your model as an HDF5 file via `model.save()`. This file format is considered legacy. We recommend using instead the native Keras format, e.g. `model.save('my_model.keras')`.\n",
      "  saving_api.save_model(\n"
     ]
    }
   ],
   "source": [
    "DL_Model.save('dl_model_asthma.h5')"
   ]
  }
 ],
 "metadata": {
  "kernelspec": {
   "display_name": "python",
   "language": "python",
   "name": "python3"
  },
  "language_info": {
   "codemirror_mode": {
    "name": "ipython",
    "version": 3
   },
   "file_extension": ".py",
   "mimetype": "text/x-python",
   "name": "python",
   "nbconvert_exporter": "python",
   "pygments_lexer": "ipython3",
   "version": "3.10.11"
  }
 },
 "nbformat": 4,
 "nbformat_minor": 5
}
