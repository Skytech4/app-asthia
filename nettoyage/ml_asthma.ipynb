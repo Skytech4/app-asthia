{
 "cells": [
  {
   "cell_type": "markdown",
   "id": "21f461b1",
   "metadata": {},
   "source": [
    "# Preprocessing des données"
   ]
  },
  {
   "cell_type": "code",
   "execution_count": 1,
   "id": "f2b138d0",
   "metadata": {},
   "outputs": [],
   "source": [
    "import pandas as pd\n",
    "import matplotlib.pyplot as plt\n",
    "import seaborn as sns\n",
    "import numpy as np"
   ]
  },
  {
   "cell_type": "code",
   "execution_count": 2,
   "id": "ac4ab0d9",
   "metadata": {},
   "outputs": [
    {
     "data": {
      "application/vnd.microsoft.datawrangler.viewer.v0+json": {
       "columns": [
        {
         "name": "index",
         "rawType": "int64",
         "type": "integer"
        },
        {
         "name": "Hydroxyurea",
         "rawType": "object",
         "type": "string"
        },
        {
         "name": "ICS",
         "rawType": "object",
         "type": "string"
        },
        {
         "name": "LABA",
         "rawType": "object",
         "type": "string"
        },
        {
         "name": "Gender",
         "rawType": "object",
         "type": "string"
        },
        {
         "name": "Age",
         "rawType": "int64",
         "type": "integer"
        },
        {
         "name": "Height",
         "rawType": "float64",
         "type": "float"
        },
        {
         "name": "Weight",
         "rawType": "float64",
         "type": "float"
        },
        {
         "name": "BMI",
         "rawType": "float64",
         "type": "float"
        },
        {
         "name": "R5Hz_PP",
         "rawType": "float64",
         "type": "float"
        },
        {
         "name": "R20Hz_PP",
         "rawType": "float64",
         "type": "float"
        },
        {
         "name": "X5Hz_PP",
         "rawType": "float64",
         "type": "float"
        },
        {
         "name": "Fres_PP",
         "rawType": "float64",
         "type": "float"
        },
        {
         "name": "Asthma",
         "rawType": "object",
         "type": "string"
        }
       ],
       "ref": "a7fbbb94-ed51-42aa-8c5d-8d5d9a21b886",
       "rows": [
        [
         "0",
         "Non",
         "Non",
         "Non",
         "Homme",
         "11",
         "128.9",
         "25.8",
         "15.5",
         "7.36",
         "3.91",
         "-0.72",
         "5.52",
         "Asthmatique"
        ],
        [
         "1",
         "Non",
         "Non",
         "Oui",
         "Femme",
         "33",
         "164.0",
         "56.1",
         "20.9",
         "1.61",
         "2.29",
         "-0.46",
         "16.6",
         "Normal"
        ],
        [
         "2",
         "Non",
         "Non",
         "Oui",
         "Femme",
         "15",
         "121.4",
         "23.5",
         "15.9",
         "2.71",
         "2.49",
         "-0.47",
         "10.52",
         "Normal"
        ],
        [
         "3",
         "Non",
         "Non",
         "Oui",
         "Femme",
         "37",
         "154.5",
         "60.9",
         "25.5",
         "5.18",
         "3.58",
         "-0.47",
         "23.58",
         "Asthmatique"
        ],
        [
         "4",
         "Non",
         "Non",
         "Non",
         "Homme",
         "10",
         "101.1",
         "27.6",
         "27.0",
         "3.52",
         "3.99",
         "-0.35",
         "15.46",
         "Normal"
        ]
       ],
       "shape": {
        "columns": 13,
        "rows": 5
       }
      },
      "text/html": [
       "<div>\n",
       "<style scoped>\n",
       "    .dataframe tbody tr th:only-of-type {\n",
       "        vertical-align: middle;\n",
       "    }\n",
       "\n",
       "    .dataframe tbody tr th {\n",
       "        vertical-align: top;\n",
       "    }\n",
       "\n",
       "    .dataframe thead th {\n",
       "        text-align: right;\n",
       "    }\n",
       "</style>\n",
       "<table border=\"1\" class=\"dataframe\">\n",
       "  <thead>\n",
       "    <tr style=\"text-align: right;\">\n",
       "      <th></th>\n",
       "      <th>Hydroxyurea</th>\n",
       "      <th>ICS</th>\n",
       "      <th>LABA</th>\n",
       "      <th>Gender</th>\n",
       "      <th>Age</th>\n",
       "      <th>Height</th>\n",
       "      <th>Weight</th>\n",
       "      <th>BMI</th>\n",
       "      <th>R5Hz_PP</th>\n",
       "      <th>R20Hz_PP</th>\n",
       "      <th>X5Hz_PP</th>\n",
       "      <th>Fres_PP</th>\n",
       "      <th>Asthma</th>\n",
       "    </tr>\n",
       "  </thead>\n",
       "  <tbody>\n",
       "    <tr>\n",
       "      <th>0</th>\n",
       "      <td>Non</td>\n",
       "      <td>Non</td>\n",
       "      <td>Non</td>\n",
       "      <td>Homme</td>\n",
       "      <td>11</td>\n",
       "      <td>128.9</td>\n",
       "      <td>25.8</td>\n",
       "      <td>15.5</td>\n",
       "      <td>7.36</td>\n",
       "      <td>3.91</td>\n",
       "      <td>-0.72</td>\n",
       "      <td>5.52</td>\n",
       "      <td>Asthmatique</td>\n",
       "    </tr>\n",
       "    <tr>\n",
       "      <th>1</th>\n",
       "      <td>Non</td>\n",
       "      <td>Non</td>\n",
       "      <td>Oui</td>\n",
       "      <td>Femme</td>\n",
       "      <td>33</td>\n",
       "      <td>164.0</td>\n",
       "      <td>56.1</td>\n",
       "      <td>20.9</td>\n",
       "      <td>1.61</td>\n",
       "      <td>2.29</td>\n",
       "      <td>-0.46</td>\n",
       "      <td>16.60</td>\n",
       "      <td>Normal</td>\n",
       "    </tr>\n",
       "    <tr>\n",
       "      <th>2</th>\n",
       "      <td>Non</td>\n",
       "      <td>Non</td>\n",
       "      <td>Oui</td>\n",
       "      <td>Femme</td>\n",
       "      <td>15</td>\n",
       "      <td>121.4</td>\n",
       "      <td>23.5</td>\n",
       "      <td>15.9</td>\n",
       "      <td>2.71</td>\n",
       "      <td>2.49</td>\n",
       "      <td>-0.47</td>\n",
       "      <td>10.52</td>\n",
       "      <td>Normal</td>\n",
       "    </tr>\n",
       "    <tr>\n",
       "      <th>3</th>\n",
       "      <td>Non</td>\n",
       "      <td>Non</td>\n",
       "      <td>Oui</td>\n",
       "      <td>Femme</td>\n",
       "      <td>37</td>\n",
       "      <td>154.5</td>\n",
       "      <td>60.9</td>\n",
       "      <td>25.5</td>\n",
       "      <td>5.18</td>\n",
       "      <td>3.58</td>\n",
       "      <td>-0.47</td>\n",
       "      <td>23.58</td>\n",
       "      <td>Asthmatique</td>\n",
       "    </tr>\n",
       "    <tr>\n",
       "      <th>4</th>\n",
       "      <td>Non</td>\n",
       "      <td>Non</td>\n",
       "      <td>Non</td>\n",
       "      <td>Homme</td>\n",
       "      <td>10</td>\n",
       "      <td>101.1</td>\n",
       "      <td>27.6</td>\n",
       "      <td>27.0</td>\n",
       "      <td>3.52</td>\n",
       "      <td>3.99</td>\n",
       "      <td>-0.35</td>\n",
       "      <td>15.46</td>\n",
       "      <td>Normal</td>\n",
       "    </tr>\n",
       "  </tbody>\n",
       "</table>\n",
       "</div>"
      ],
      "text/plain": [
       "  Hydroxyurea  ICS LABA Gender  Age  Height  Weight   BMI  R5Hz_PP  R20Hz_PP  \\\n",
       "0         Non  Non  Non  Homme   11   128.9    25.8  15.5     7.36      3.91   \n",
       "1         Non  Non  Oui  Femme   33   164.0    56.1  20.9     1.61      2.29   \n",
       "2         Non  Non  Oui  Femme   15   121.4    23.5  15.9     2.71      2.49   \n",
       "3         Non  Non  Oui  Femme   37   154.5    60.9  25.5     5.18      3.58   \n",
       "4         Non  Non  Non  Homme   10   101.1    27.6  27.0     3.52      3.99   \n",
       "\n",
       "   X5Hz_PP  Fres_PP       Asthma  \n",
       "0    -0.72     5.52  Asthmatique  \n",
       "1    -0.46    16.60       Normal  \n",
       "2    -0.47    10.52       Normal  \n",
       "3    -0.47    23.58  Asthmatique  \n",
       "4    -0.35    15.46       Normal  "
      ]
     },
     "execution_count": 2,
     "metadata": {},
     "output_type": "execute_result"
    }
   ],
   "source": [
    "data = pd.read_csv(\"dataset_asthma.csv\")\n",
    "data.head()"
   ]
  },
  {
   "cell_type": "code",
   "execution_count": 3,
   "id": "384bcbea",
   "metadata": {},
   "outputs": [
    {
     "data": {
      "text/plain": [
       "Index(['Hydroxyurea', 'ICS', 'LABA', 'Gender', 'Age', 'Height', 'Weight',\n",
       "       'BMI', 'R5Hz_PP', 'R20Hz_PP', 'X5Hz_PP', 'Fres_PP', 'Asthma'],\n",
       "      dtype='object')"
      ]
     },
     "execution_count": 3,
     "metadata": {},
     "output_type": "execute_result"
    }
   ],
   "source": [
    "data.columns"
   ]
  },
  {
   "cell_type": "code",
   "execution_count": 4,
   "id": "4a33348c",
   "metadata": {},
   "outputs": [
    {
     "data": {
      "application/vnd.microsoft.datawrangler.viewer.v0+json": {
       "columns": [
        {
         "name": "index",
         "rawType": "bool",
         "type": "boolean"
        },
        {
         "name": "count",
         "rawType": "int64",
         "type": "integer"
        }
       ],
       "ref": "313d5a20-e38d-4988-b471-37fa62b6e6ea",
       "rows": [
        [
         "False",
         "1200"
        ]
       ],
       "shape": {
        "columns": 1,
        "rows": 1
       }
      },
      "text/plain": [
       "False    1200\n",
       "Name: count, dtype: int64"
      ]
     },
     "execution_count": 4,
     "metadata": {},
     "output_type": "execute_result"
    }
   ],
   "source": [
    "# Check des doublons de valeurs\n",
    "data.duplicated().value_counts()"
   ]
  },
  {
   "cell_type": "code",
   "execution_count": 5,
   "id": "7b25e7c8",
   "metadata": {},
   "outputs": [],
   "source": [
    "data.drop_duplicates(inplace=True)"
   ]
  },
  {
   "cell_type": "code",
   "execution_count": 6,
   "id": "e5db9d5c",
   "metadata": {},
   "outputs": [
    {
     "data": {
      "application/vnd.microsoft.datawrangler.viewer.v0+json": {
       "columns": [
        {
         "name": "index",
         "rawType": "object",
         "type": "string"
        },
        {
         "name": "0",
         "rawType": "object",
         "type": "unknown"
        }
       ],
       "ref": "7545cae0-bcd5-4f11-b764-6f19b78e0166",
       "rows": [
        [
         "Hydroxyurea",
         "object"
        ],
        [
         "ICS",
         "object"
        ],
        [
         "LABA",
         "object"
        ],
        [
         "Gender",
         "object"
        ],
        [
         "Age",
         "int64"
        ],
        [
         "Height",
         "float64"
        ],
        [
         "Weight",
         "float64"
        ],
        [
         "BMI",
         "float64"
        ],
        [
         "R5Hz_PP",
         "float64"
        ],
        [
         "R20Hz_PP",
         "float64"
        ],
        [
         "X5Hz_PP",
         "float64"
        ],
        [
         "Fres_PP",
         "float64"
        ],
        [
         "Asthma",
         "object"
        ]
       ],
       "shape": {
        "columns": 1,
        "rows": 13
       }
      },
      "text/plain": [
       "Hydroxyurea     object\n",
       "ICS             object\n",
       "LABA            object\n",
       "Gender          object\n",
       "Age              int64\n",
       "Height         float64\n",
       "Weight         float64\n",
       "BMI            float64\n",
       "R5Hz_PP        float64\n",
       "R20Hz_PP       float64\n",
       "X5Hz_PP        float64\n",
       "Fres_PP        float64\n",
       "Asthma          object\n",
       "dtype: object"
      ]
     },
     "execution_count": 6,
     "metadata": {},
     "output_type": "execute_result"
    }
   ],
   "source": [
    "data.dtypes"
   ]
  },
  {
   "cell_type": "code",
   "execution_count": 7,
   "id": "071aefbf",
   "metadata": {},
   "outputs": [
    {
     "data": {
      "application/vnd.microsoft.datawrangler.viewer.v0+json": {
       "columns": [
        {
         "name": "index",
         "rawType": "object",
         "type": "string"
        },
        {
         "name": "0",
         "rawType": "int64",
         "type": "integer"
        }
       ],
       "ref": "65feb914-c7f7-417e-a14f-ef228b042500",
       "rows": [
        [
         "Hydroxyurea",
         "0"
        ],
        [
         "ICS",
         "0"
        ],
        [
         "LABA",
         "0"
        ],
        [
         "Gender",
         "0"
        ],
        [
         "Age",
         "0"
        ],
        [
         "Height",
         "0"
        ],
        [
         "Weight",
         "0"
        ],
        [
         "BMI",
         "0"
        ],
        [
         "R5Hz_PP",
         "60"
        ],
        [
         "R20Hz_PP",
         "60"
        ],
        [
         "X5Hz_PP",
         "60"
        ],
        [
         "Fres_PP",
         "60"
        ],
        [
         "Asthma",
         "0"
        ]
       ],
       "shape": {
        "columns": 1,
        "rows": 13
       }
      },
      "text/plain": [
       "Hydroxyurea     0\n",
       "ICS             0\n",
       "LABA            0\n",
       "Gender          0\n",
       "Age             0\n",
       "Height          0\n",
       "Weight          0\n",
       "BMI             0\n",
       "R5Hz_PP        60\n",
       "R20Hz_PP       60\n",
       "X5Hz_PP        60\n",
       "Fres_PP        60\n",
       "Asthma          0\n",
       "dtype: int64"
      ]
     },
     "execution_count": 7,
     "metadata": {},
     "output_type": "execute_result"
    }
   ],
   "source": [
    "data.isna().sum()"
   ]
  },
  {
   "cell_type": "code",
   "execution_count": 8,
   "id": "2b5ee3f6",
   "metadata": {},
   "outputs": [],
   "source": [
    "# Remplacements des valeurs manquantes des quatre dernières colonnes par leurs moyennes respectives\n",
    "cols_osc = ['R5Hz_PP', 'R20Hz_PP', 'X5Hz_PP', 'Fres_PP']\n",
    "data[cols_osc] = (data[cols_osc].fillna(data[cols_osc].mean()).round(2))"
   ]
  },
  {
   "cell_type": "code",
   "execution_count": 9,
   "id": "7d7afe06",
   "metadata": {},
   "outputs": [
    {
     "data": {
      "application/vnd.microsoft.datawrangler.viewer.v0+json": {
       "columns": [
        {
         "name": "index",
         "rawType": "object",
         "type": "string"
        },
        {
         "name": "0",
         "rawType": "int64",
         "type": "integer"
        }
       ],
       "ref": "da2683a6-f6cd-4d95-a0ed-292a4f4574ad",
       "rows": [
        [
         "Hydroxyurea",
         "0"
        ],
        [
         "ICS",
         "0"
        ],
        [
         "LABA",
         "0"
        ],
        [
         "Gender",
         "0"
        ],
        [
         "Age",
         "0"
        ],
        [
         "Height",
         "0"
        ],
        [
         "Weight",
         "0"
        ],
        [
         "BMI",
         "0"
        ],
        [
         "R5Hz_PP",
         "0"
        ],
        [
         "R20Hz_PP",
         "0"
        ],
        [
         "X5Hz_PP",
         "0"
        ],
        [
         "Fres_PP",
         "0"
        ],
        [
         "Asthma",
         "0"
        ]
       ],
       "shape": {
        "columns": 1,
        "rows": 13
       }
      },
      "text/plain": [
       "Hydroxyurea    0\n",
       "ICS            0\n",
       "LABA           0\n",
       "Gender         0\n",
       "Age            0\n",
       "Height         0\n",
       "Weight         0\n",
       "BMI            0\n",
       "R5Hz_PP        0\n",
       "R20Hz_PP       0\n",
       "X5Hz_PP        0\n",
       "Fres_PP        0\n",
       "Asthma         0\n",
       "dtype: int64"
      ]
     },
     "execution_count": 9,
     "metadata": {},
     "output_type": "execute_result"
    }
   ],
   "source": [
    "data.isna().sum()"
   ]
  },
  {
   "cell_type": "code",
   "execution_count": 10,
   "id": "ade96371",
   "metadata": {},
   "outputs": [
    {
     "data": {
      "text/plain": [
       "array(['Homme', 'Femme'], dtype=object)"
      ]
     },
     "execution_count": 10,
     "metadata": {},
     "output_type": "execute_result"
    }
   ],
   "source": [
    "data.Gender.unique()"
   ]
  },
  {
   "cell_type": "code",
   "execution_count": 11,
   "id": "b86d2c4b",
   "metadata": {},
   "outputs": [],
   "source": [
    "# Conversion des colonnes catégorielles en numériques\n",
    "data['Hydroxyurea'] = data['Hydroxyurea'].map({'Oui': 1, 'Non': 0})\n",
    "data['ICS'] = data['ICS'].map({'Oui': 1, 'Non': 0})\n",
    "data['LABA'] = data['LABA'].map({'Oui': 1, 'Non': 0})"
   ]
  },
  {
   "cell_type": "code",
   "execution_count": 12,
   "id": "dff7a1b4",
   "metadata": {},
   "outputs": [
    {
     "data": {
      "application/vnd.microsoft.datawrangler.viewer.v0+json": {
       "columns": [
        {
         "name": "('Hydroxyurea', 'ICS', 'LABA', 'Gender', 'Age', 'Height', 'Weight', 'BMI', 'R5Hz_PP', 'R20Hz_PP', 'X5Hz_PP', 'Fres_PP', 'Asthma')",
         "rawType": "object",
         "type": "unknown"
        },
        {
         "name": "count",
         "rawType": "int64",
         "type": "integer"
        }
       ],
       "ref": "7e649a7e-f190-4ad1-8580-01060a1b4edf",
       "rows": [
        [
         "(0, 0, 0, 'Femme', 5, 109.2, 9.9, 8.3, 7.13, 3.27, -0.68, 13.46, 'Asthmatique')",
         "1"
        ],
        [
         "(0, 0, 1, 'Homme', 25, 167.7, 74.3, 26.4, 2.57, 2.55, -0.73, 15.64, 'Normal')",
         "1"
        ],
        [
         "(0, 0, 1, 'Homme', 22, 159.2, 52.2, 20.6, 9.91, 4.87, -0.86, 19.97, 'Asthmatique')",
         "1"
        ],
        [
         "(0, 0, 1, 'Homme', 21, 175.4, 58.0, 18.9, 4.08, 3.36, -0.21, 16.82, 'Normal')",
         "1"
        ],
        [
         "(0, 0, 1, 'Homme', 21, 170.3, 77.0, 26.5, 3.96, 4.11, -0.65, 9.36, 'Normal')",
         "1"
        ],
        [
         "(0, 0, 1, 'Homme', 20, 166.0, 60.5, 22.0, 3.54, 2.76, -0.28, 11.52, 'Normal')",
         "1"
        ],
        [
         "(0, 0, 1, 'Homme', 20, 162.0, 66.3, 25.3, 5.64, 5.06, -0.75, 20.16, 'Asthmatique')",
         "1"
        ],
        [
         "(0, 0, 1, 'Homme', 19, 170.2, 66.8, 23.1, 1.88, 2.64, -0.6, 10.53, 'Normal')",
         "1"
        ],
        [
         "(0, 0, 1, 'Homme', 18, 172.0, 80.3, 27.1, 4.91, 3.71, -0.26, 7.51, 'Normal')",
         "1"
        ],
        [
         "(0, 0, 1, 'Homme', 15, 130.1, 25.6, 15.1, 3.34, 2.42, -1.08, 7.23, 'Normal')",
         "1"
        ],
        [
         "(0, 0, 1, 'Homme', 14, 125.6, 23.5, 14.9, 3.35, 3.56, -0.93, 9.26, 'Normal')",
         "1"
        ],
        [
         "(0, 0, 1, 'Homme', 14, 123.3, 34.3, 22.6, 7.18, 4.03, -1.21, 18.46, 'Asthmatique')",
         "1"
        ],
        [
         "(0, 0, 1, 'Homme', 12, 128.4, 31.9, 19.3, 4.3, 2.65, -0.98, 17.14, 'Asthmatique')",
         "1"
        ],
        [
         "(0, 0, 1, 'Homme', 10, 122.5, 22.9, 15.3, 3.51, 2.04, -0.6, 12.45, 'Normal')",
         "1"
        ],
        [
         "(0, 0, 1, 'Homme', 10, 109.7, 29.2, 24.3, 4.17, 3.28, -0.8, 6.29, 'Normal')",
         "1"
        ],
        [
         "(0, 0, 1, 'Homme', 9, 120.1, 17.4, 12.1, 5.13, 5.13, -1.3, 22.28, 'Asthmatique')",
         "1"
        ],
        [
         "(0, 0, 1, 'Homme', 9, 114.6, 34.3, 26.1, 3.28, 2.93, -0.18, 12.89, 'Normal')",
         "1"
        ],
        [
         "(0, 0, 1, 'Homme', 24, 167.2, 60.8, 21.7, 2.88, 2.85, -0.61, 14.8, 'Normal')",
         "1"
        ],
        [
         "(0, 0, 1, 'Homme', 25, 171.7, 80.8, 27.4, 4.36, 2.11, -0.53, 15.27, 'Asthmatique')",
         "1"
        ],
        [
         "(0, 0, 1, 'Homme', 8, 121.6, 30.4, 20.6, 4.66, 2.41, -0.58, 15.76, 'Asthmatique')",
         "1"
        ],
        [
         "(0, 0, 1, 'Homme', 25, 173.9, 68.4, 22.6, 7.26, 3.1, -1.39, 12.22, 'Asthmatique')",
         "1"
        ],
        [
         "(0, 0, 1, 'Homme', 49, 167.0, 50.6, 18.1, 4.73, 3.52, -0.87, 14.85, 'Normal')",
         "1"
        ],
        [
         "(0, 0, 1, 'Homme', 48, 182.1, 78.4, 23.6, 6.57, 2.97, -1.24, 16.86, 'Asthmatique')",
         "1"
        ],
        [
         "(0, 0, 1, 'Homme', 48, 168.1, 60.7, 21.5, 3.53, 1.99, -0.48, 13.41, 'Normal')",
         "1"
        ],
        [
         "(0, 0, 1, 'Homme', 47, 181.1, 67.5, 20.6, 6.2, 4.97, -1.98, 17.98, 'Asthmatique')",
         "1"
        ],
        [
         "(0, 0, 1, 'Homme', 43, 168.4, 84.0, 29.6, 7.14, 5.22, -0.63, 30.43, 'Asthmatique')",
         "1"
        ],
        [
         "(0, 0, 1, 'Homme', 42, 170.5, 66.7, 22.9, 3.67, 3.03, -0.58, 10.41, 'Normal')",
         "1"
        ],
        [
         "(0, 0, 1, 'Homme', 37, 170.0, 67.3, 23.3, 3.52, 2.83, -0.25, 12.44, 'Normal')",
         "1"
        ],
        [
         "(0, 0, 1, 'Homme', 37, 164.3, 55.0, 20.4, 3.94, 3.04, -0.15, 13.37, 'Normal')",
         "1"
        ],
        [
         "(0, 0, 1, 'Homme', 36, 173.6, 81.7, 27.1, 6.22, 3.04, -1.16, 24.65, 'Asthmatique')",
         "1"
        ],
        [
         "(0, 0, 1, 'Homme', 35, 170.9, 66.4, 22.7, 3.19, 2.85, -0.59, 11.71, 'Normal')",
         "1"
        ],
        [
         "(0, 0, 1, 'Homme', 34, 161.5, 67.0, 25.7, 2.16, 2.14, -0.36, 12.69, 'Normal')",
         "1"
        ],
        [
         "(0, 0, 1, 'Homme', 29, 180.2, 52.0, 16.0, 3.11, 2.27, -0.51, 8.82, 'Normal')",
         "1"
        ],
        [
         "(0, 0, 1, 'Homme', 28, 171.3, 68.2, 23.2, 4.06, 2.82, -0.58, 11.26, 'Normal')",
         "1"
        ],
        [
         "(0, 0, 1, 'Homme', 28, 171.1, 68.6, 23.4, 5.3, 3.77, -1.01, 16.91, 'Asthmatique')",
         "1"
        ],
        [
         "(0, 0, 1, 'Homme', 28, 157.1, 60.6, 24.6, 3.02, 2.64, -1.04, 14.37, 'Normal')",
         "1"
        ],
        [
         "(0, 0, 1, 'Homme', 9, 112.8, 27.5, 21.6, 3.73, 3.35, -0.35, 14.61, 'Normal')",
         "1"
        ],
        [
         "(0, 0, 1, 'Homme', 8, 118.2, 30.7, 22.0, 2.36, 2.2, -0.89, 11.47, 'Normal')",
         "1"
        ],
        [
         "(0, 0, 0, 'Femme', 6, 107.4, 20.6, 17.9, 2.74, 3.72, -0.44, 12.45, 'Normal')",
         "1"
        ],
        [
         "(0, 0, 1, 'Femme', 67, 159.7, 48.5, 19.0, 3.66, 2.6, -0.23, 11.82, 'Normal')",
         "1"
        ],
        [
         "(0, 0, 1, 'Femme', 65, 166.8, 60.3, 21.7, 4.54, 3.4, -0.7, 14.39, 'Normal')",
         "1"
        ],
        [
         "(0, 0, 1, 'Femme', 64, 168.1, 55.3, 19.6, 4.54, 4.74, -1.4, 20.31, 'Asthmatique')",
         "1"
        ],
        [
         "(0, 0, 1, 'Femme', 64, 163.1, 73.3, 27.6, 1.93, 3.5, -0.45, 12.8, 'Normal')",
         "1"
        ],
        [
         "(0, 0, 1, 'Femme', 64, 162.8, 65.1, 24.6, 3.35, 3.12, -0.37, 14.6, 'Normal')",
         "1"
        ],
        [
         "(0, 0, 1, 'Femme', 64, 158.1, 66.1, 26.4, 3.7, 2.24, -0.51, 16.36, 'Normal')",
         "1"
        ],
        [
         "(0, 0, 1, 'Femme', 60, 159.6, 51.5, 20.2, 4.71, 5.3, -0.99, 13.48, 'Asthmatique')",
         "1"
        ],
        [
         "(0, 0, 1, 'Femme', 56, 160.2, 50.4, 19.6, 4.26, 1.75, -0.86, 12.82, 'Normal')",
         "1"
        ],
        [
         "(0, 0, 1, 'Femme', 56, 155.7, 49.7, 20.5, 5.21, 3.63, -0.93, 23.61, 'Asthmatique')",
         "1"
        ],
        [
         "(0, 0, 1, 'Femme', 56, 153.4, 63.6, 27.0, 4.23, 3.07, -0.97, 12.78, 'Normal')",
         "1"
        ],
        [
         "(0, 0, 1, 'Femme', 55, 160.0, 70.8, 27.7, 3.48, 3.72, -0.61, 15.63, 'Normal')",
         "1"
        ]
       ],
       "shape": {
        "columns": 1,
        "rows": 1200
       }
      },
      "text/plain": [
       "Hydroxyurea  ICS  LABA  Gender  Age  Height  Weight  BMI   R5Hz_PP  R20Hz_PP  X5Hz_PP  Fres_PP  Asthma     \n",
       "0            0    0     Femme   5    109.2   9.9     8.3   7.13     3.27      -0.68    13.46    Asthmatique    1\n",
       "                  1     Homme   25   167.7   74.3    26.4  2.57     2.55      -0.73    15.64    Normal         1\n",
       "                                22   159.2   52.2    20.6  9.91     4.87      -0.86    19.97    Asthmatique    1\n",
       "                                21   175.4   58.0    18.9  4.08     3.36      -0.21    16.82    Normal         1\n",
       "                                     170.3   77.0    26.5  3.96     4.11      -0.65    9.36     Normal         1\n",
       "                                                                                                              ..\n",
       "                  0     Homme   18   165.9   87.0    31.6  3.48     3.16      -0.63    12.44    Normal         1\n",
       "                                     162.3   73.6    27.9  5.91     2.72      -1.40    21.70    Asthmatique    1\n",
       "                                17   143.5   8.7     4.2   4.97     5.79      -0.84    21.85    Asthmatique    1\n",
       "                                     124.0   21.8    14.2  4.48     3.26      -0.26    8.59     Normal         1\n",
       "1            1    1     Homme   62   169.9   62.1    21.5  7.88     5.25      -0.82    21.16    Asthmatique    1\n",
       "Name: count, Length: 1200, dtype: int64"
      ]
     },
     "execution_count": 12,
     "metadata": {},
     "output_type": "execute_result"
    }
   ],
   "source": [
    "data.value_counts()"
   ]
  },
  {
   "cell_type": "code",
   "execution_count": 13,
   "id": "0c4322dc",
   "metadata": {},
   "outputs": [
    {
     "data": {
      "application/vnd.microsoft.datawrangler.viewer.v0+json": {
       "columns": [
        {
         "name": "index",
         "rawType": "int64",
         "type": "integer"
        },
        {
         "name": "Hydroxyurea",
         "rawType": "int64",
         "type": "integer"
        },
        {
         "name": "ICS",
         "rawType": "int64",
         "type": "integer"
        },
        {
         "name": "LABA",
         "rawType": "int64",
         "type": "integer"
        },
        {
         "name": "Gender",
         "rawType": "object",
         "type": "string"
        },
        {
         "name": "Age",
         "rawType": "int64",
         "type": "integer"
        },
        {
         "name": "Height",
         "rawType": "float64",
         "type": "float"
        },
        {
         "name": "Weight",
         "rawType": "float64",
         "type": "float"
        },
        {
         "name": "BMI",
         "rawType": "float64",
         "type": "float"
        },
        {
         "name": "R5Hz_PP",
         "rawType": "float64",
         "type": "float"
        },
        {
         "name": "R20Hz_PP",
         "rawType": "float64",
         "type": "float"
        },
        {
         "name": "X5Hz_PP",
         "rawType": "float64",
         "type": "float"
        },
        {
         "name": "Fres_PP",
         "rawType": "float64",
         "type": "float"
        },
        {
         "name": "Asthma",
         "rawType": "object",
         "type": "string"
        }
       ],
       "ref": "e71e65be-986f-4419-8bc1-0f71a25e35a4",
       "rows": [
        [
         "0",
         "0",
         "0",
         "0",
         "Homme",
         "11",
         "128.9",
         "25.8",
         "15.5",
         "7.36",
         "3.91",
         "-0.72",
         "5.52",
         "Asthmatique"
        ],
        [
         "1",
         "0",
         "0",
         "1",
         "Femme",
         "33",
         "164.0",
         "56.1",
         "20.9",
         "1.61",
         "2.29",
         "-0.46",
         "16.6",
         "Normal"
        ],
        [
         "2",
         "0",
         "0",
         "1",
         "Femme",
         "15",
         "121.4",
         "23.5",
         "15.9",
         "2.71",
         "2.49",
         "-0.47",
         "10.52",
         "Normal"
        ],
        [
         "3",
         "0",
         "0",
         "1",
         "Femme",
         "37",
         "154.5",
         "60.9",
         "25.5",
         "5.18",
         "3.58",
         "-0.47",
         "23.58",
         "Asthmatique"
        ],
        [
         "4",
         "0",
         "0",
         "0",
         "Homme",
         "10",
         "101.1",
         "27.6",
         "27.0",
         "3.52",
         "3.99",
         "-0.35",
         "15.46",
         "Normal"
        ]
       ],
       "shape": {
        "columns": 13,
        "rows": 5
       }
      },
      "text/html": [
       "<div>\n",
       "<style scoped>\n",
       "    .dataframe tbody tr th:only-of-type {\n",
       "        vertical-align: middle;\n",
       "    }\n",
       "\n",
       "    .dataframe tbody tr th {\n",
       "        vertical-align: top;\n",
       "    }\n",
       "\n",
       "    .dataframe thead th {\n",
       "        text-align: right;\n",
       "    }\n",
       "</style>\n",
       "<table border=\"1\" class=\"dataframe\">\n",
       "  <thead>\n",
       "    <tr style=\"text-align: right;\">\n",
       "      <th></th>\n",
       "      <th>Hydroxyurea</th>\n",
       "      <th>ICS</th>\n",
       "      <th>LABA</th>\n",
       "      <th>Gender</th>\n",
       "      <th>Age</th>\n",
       "      <th>Height</th>\n",
       "      <th>Weight</th>\n",
       "      <th>BMI</th>\n",
       "      <th>R5Hz_PP</th>\n",
       "      <th>R20Hz_PP</th>\n",
       "      <th>X5Hz_PP</th>\n",
       "      <th>Fres_PP</th>\n",
       "      <th>Asthma</th>\n",
       "    </tr>\n",
       "  </thead>\n",
       "  <tbody>\n",
       "    <tr>\n",
       "      <th>0</th>\n",
       "      <td>0</td>\n",
       "      <td>0</td>\n",
       "      <td>0</td>\n",
       "      <td>Homme</td>\n",
       "      <td>11</td>\n",
       "      <td>128.9</td>\n",
       "      <td>25.8</td>\n",
       "      <td>15.5</td>\n",
       "      <td>7.36</td>\n",
       "      <td>3.91</td>\n",
       "      <td>-0.72</td>\n",
       "      <td>5.52</td>\n",
       "      <td>Asthmatique</td>\n",
       "    </tr>\n",
       "    <tr>\n",
       "      <th>1</th>\n",
       "      <td>0</td>\n",
       "      <td>0</td>\n",
       "      <td>1</td>\n",
       "      <td>Femme</td>\n",
       "      <td>33</td>\n",
       "      <td>164.0</td>\n",
       "      <td>56.1</td>\n",
       "      <td>20.9</td>\n",
       "      <td>1.61</td>\n",
       "      <td>2.29</td>\n",
       "      <td>-0.46</td>\n",
       "      <td>16.60</td>\n",
       "      <td>Normal</td>\n",
       "    </tr>\n",
       "    <tr>\n",
       "      <th>2</th>\n",
       "      <td>0</td>\n",
       "      <td>0</td>\n",
       "      <td>1</td>\n",
       "      <td>Femme</td>\n",
       "      <td>15</td>\n",
       "      <td>121.4</td>\n",
       "      <td>23.5</td>\n",
       "      <td>15.9</td>\n",
       "      <td>2.71</td>\n",
       "      <td>2.49</td>\n",
       "      <td>-0.47</td>\n",
       "      <td>10.52</td>\n",
       "      <td>Normal</td>\n",
       "    </tr>\n",
       "    <tr>\n",
       "      <th>3</th>\n",
       "      <td>0</td>\n",
       "      <td>0</td>\n",
       "      <td>1</td>\n",
       "      <td>Femme</td>\n",
       "      <td>37</td>\n",
       "      <td>154.5</td>\n",
       "      <td>60.9</td>\n",
       "      <td>25.5</td>\n",
       "      <td>5.18</td>\n",
       "      <td>3.58</td>\n",
       "      <td>-0.47</td>\n",
       "      <td>23.58</td>\n",
       "      <td>Asthmatique</td>\n",
       "    </tr>\n",
       "    <tr>\n",
       "      <th>4</th>\n",
       "      <td>0</td>\n",
       "      <td>0</td>\n",
       "      <td>0</td>\n",
       "      <td>Homme</td>\n",
       "      <td>10</td>\n",
       "      <td>101.1</td>\n",
       "      <td>27.6</td>\n",
       "      <td>27.0</td>\n",
       "      <td>3.52</td>\n",
       "      <td>3.99</td>\n",
       "      <td>-0.35</td>\n",
       "      <td>15.46</td>\n",
       "      <td>Normal</td>\n",
       "    </tr>\n",
       "  </tbody>\n",
       "</table>\n",
       "</div>"
      ],
      "text/plain": [
       "   Hydroxyurea  ICS  LABA Gender  Age  Height  Weight   BMI  R5Hz_PP  \\\n",
       "0            0    0     0  Homme   11   128.9    25.8  15.5     7.36   \n",
       "1            0    0     1  Femme   33   164.0    56.1  20.9     1.61   \n",
       "2            0    0     1  Femme   15   121.4    23.5  15.9     2.71   \n",
       "3            0    0     1  Femme   37   154.5    60.9  25.5     5.18   \n",
       "4            0    0     0  Homme   10   101.1    27.6  27.0     3.52   \n",
       "\n",
       "   R20Hz_PP  X5Hz_PP  Fres_PP       Asthma  \n",
       "0      3.91    -0.72     5.52  Asthmatique  \n",
       "1      2.29    -0.46    16.60       Normal  \n",
       "2      2.49    -0.47    10.52       Normal  \n",
       "3      3.58    -0.47    23.58  Asthmatique  \n",
       "4      3.99    -0.35    15.46       Normal  "
      ]
     },
     "execution_count": 13,
     "metadata": {},
     "output_type": "execute_result"
    }
   ],
   "source": [
    "data.head()"
   ]
  },
  {
   "cell_type": "code",
   "execution_count": 14,
   "id": "195b367b",
   "metadata": {},
   "outputs": [
    {
     "data": {
      "text/plain": [
       "<Axes: >"
      ]
     },
     "execution_count": 14,
     "metadata": {},
     "output_type": "execute_result"
    },
    {
     "data": {
      "image/png": "[encoded data removed]",
      "text/plain": [
       "<Figure size 1000x900 with 2 Axes>"
      ]
     },
     "metadata": {},
     "output_type": "display_data"
    }
   ],
   "source": [
    "plt.figure(figsize=(10,9))\n",
    "sns.heatmap(data.select_dtypes(include=[\"int64\", \"float64\"]).corr(), annot=True)"
   ]
  },
  {
   "cell_type": "code",
   "execution_count": 15,
   "id": "36391370",
   "metadata": {},
   "outputs": [
    {
     "name": "stderr",
     "output_type": "stream",
     "text": [
      "C:\\Users\\SANTI\\AppData\\Local\\Temp\\ipykernel_696\\3566764349.py:1: FutureWarning: \n",
      "\n",
      "Passing `palette` without assigning `hue` is deprecated and will be removed in v0.14.0. Assign the `x` variable to `hue` and set `legend=False` for the same effect.\n",
      "\n",
      "  sns.barplot(x='Gender', y='BMI', data=data, palette='muted')\n"
     ]
    },
    {
     "data": {
      "text/plain": [
       "<Axes: xlabel='Gender', ylabel='BMI'>"
      ]
     },
     "execution_count": 15,
     "metadata": {},
     "output_type": "execute_result"
    },
    {
     "data": {
      "image/png": "[encoded data removed]",
      "text/plain": [
       "<Figure size 640x480 with 1 Axes>"
      ]
     },
     "metadata": {},
     "output_type": "display_data"
    }
   ],
   "source": [
    "sns.barplot(x='Gender', y='BMI', data=data, palette='muted')"
   ]
  },
  {
   "cell_type": "code",
   "execution_count": 16,
   "id": "9d5d7d53",
   "metadata": {},
   "outputs": [
    {
     "data": {
      "text/plain": [
       "<Axes: xlabel='Weight'>"
      ]
     },
     "execution_count": 16,
     "metadata": {},
     "output_type": "execute_result"
    },
    {
     "data": {
      "image/png": "[encoded data removed]",
      "text/plain": [
       "<Figure size 640x480 with 1 Axes>"
      ]
     },
     "metadata": {},
     "output_type": "display_data"
    }
   ],
   "source": [
    "sns.boxplot(x='Weight', data=data)"
   ]
  },
  {
   "cell_type": "code",
   "execution_count": 17,
   "id": "d60f2c46",
   "metadata": {},
   "outputs": [],
   "source": [
    "#Traitement des outliers\n",
    "# Fonction pour détecter et remplacer les valeurs aberrantes avec les Bounds\n",
    "def replace_outliers(df):\n",
    "    for col in df.select_dtypes(include=['number']).columns:  # Only process numeric columns \n",
    "        Q1 = df[col].quantile(0.25)\n",
    "        Q3 = df[col].quantile(0.75)\n",
    "        IQR = Q3 - Q1\n",
    "        lower_bound = Q1 - 1.5 * IQR\n",
    "        upper_bound = Q3 + 1.5 * IQR\n",
    "        df[col] = np.where(df[col] < lower_bound, lower_bound, df[col])\n",
    "        df[col] = np.where(df[col] > upper_bound, upper_bound, df[col])"
   ]
  },
  {
   "cell_type": "code",
   "execution_count": 18,
   "id": "661e6512",
   "metadata": {},
   "outputs": [],
   "source": [
    "replace_outliers(data)"
   ]
  },
  {
   "cell_type": "code",
   "execution_count": 19,
   "id": "3000e729",
   "metadata": {},
   "outputs": [
    {
     "data": {
      "application/vnd.microsoft.datawrangler.viewer.v0+json": {
       "columns": [
        {
         "name": "index",
         "rawType": "object",
         "type": "string"
        },
        {
         "name": "0",
         "rawType": "object",
         "type": "unknown"
        }
       ],
       "ref": "0d713ed6-d826-4297-b7ec-6e65a10d6358",
       "rows": [
        [
         "Hydroxyurea",
         "float64"
        ],
        [
         "ICS",
         "float64"
        ],
        [
         "LABA",
         "float64"
        ],
        [
         "Gender",
         "object"
        ],
        [
         "Age",
         "float64"
        ],
        [
         "Height",
         "float64"
        ],
        [
         "Weight",
         "float64"
        ],
        [
         "BMI",
         "float64"
        ],
        [
         "R5Hz_PP",
         "float64"
        ],
        [
         "R20Hz_PP",
         "float64"
        ],
        [
         "X5Hz_PP",
         "float64"
        ],
        [
         "Fres_PP",
         "float64"
        ],
        [
         "Asthma",
         "object"
        ]
       ],
       "shape": {
        "columns": 1,
        "rows": 13
       }
      },
      "text/plain": [
       "Hydroxyurea    float64\n",
       "ICS            float64\n",
       "LABA           float64\n",
       "Gender          object\n",
       "Age            float64\n",
       "Height         float64\n",
       "Weight         float64\n",
       "BMI            float64\n",
       "R5Hz_PP        float64\n",
       "R20Hz_PP       float64\n",
       "X5Hz_PP        float64\n",
       "Fres_PP        float64\n",
       "Asthma          object\n",
       "dtype: object"
      ]
     },
     "execution_count": 19,
     "metadata": {},
     "output_type": "execute_result"
    }
   ],
   "source": [
    "data.dtypes"
   ]
  },
  {
   "cell_type": "code",
   "execution_count": 20,
   "id": "fe8de9d4",
   "metadata": {},
   "outputs": [],
   "source": [
    "data['Age'] = data['Age'].astype('int64')"
   ]
  },
  {
   "cell_type": "code",
   "execution_count": 21,
   "id": "209bb4e6",
   "metadata": {},
   "outputs": [
    {
     "data": {
      "application/vnd.microsoft.datawrangler.viewer.v0+json": {
       "columns": [
        {
         "name": "index",
         "rawType": "object",
         "type": "string"
        },
        {
         "name": "0",
         "rawType": "object",
         "type": "unknown"
        }
       ],
       "ref": "f382e276-a2b2-461a-bf50-fb9cce9a5de3",
       "rows": [
        [
         "Hydroxyurea",
         "float64"
        ],
        [
         "ICS",
         "float64"
        ],
        [
         "LABA",
         "float64"
        ],
        [
         "Gender",
         "object"
        ],
        [
         "Age",
         "int64"
        ],
        [
         "Height",
         "float64"
        ],
        [
         "Weight",
         "float64"
        ],
        [
         "BMI",
         "float64"
        ],
        [
         "R5Hz_PP",
         "float64"
        ],
        [
         "R20Hz_PP",
         "float64"
        ],
        [
         "X5Hz_PP",
         "float64"
        ],
        [
         "Fres_PP",
         "float64"
        ],
        [
         "Asthma",
         "object"
        ]
       ],
       "shape": {
        "columns": 1,
        "rows": 13
       }
      },
      "text/plain": [
       "Hydroxyurea    float64\n",
       "ICS            float64\n",
       "LABA           float64\n",
       "Gender          object\n",
       "Age              int64\n",
       "Height         float64\n",
       "Weight         float64\n",
       "BMI            float64\n",
       "R5Hz_PP        float64\n",
       "R20Hz_PP       float64\n",
       "X5Hz_PP        float64\n",
       "Fres_PP        float64\n",
       "Asthma          object\n",
       "dtype: object"
      ]
     },
     "execution_count": 21,
     "metadata": {},
     "output_type": "execute_result"
    }
   ],
   "source": [
    "data.dtypes"
   ]
  },
  {
   "cell_type": "code",
   "execution_count": 22,
   "id": "20a3af20",
   "metadata": {},
   "outputs": [
    {
     "data": {
      "application/vnd.microsoft.datawrangler.viewer.v0+json": {
       "columns": [
        {
         "name": "index",
         "rawType": "int64",
         "type": "integer"
        },
        {
         "name": "Hydroxyurea",
         "rawType": "float64",
         "type": "float"
        },
        {
         "name": "ICS",
         "rawType": "float64",
         "type": "float"
        },
        {
         "name": "LABA",
         "rawType": "float64",
         "type": "float"
        },
        {
         "name": "Gender",
         "rawType": "object",
         "type": "string"
        },
        {
         "name": "Age",
         "rawType": "int64",
         "type": "integer"
        },
        {
         "name": "Height",
         "rawType": "float64",
         "type": "float"
        },
        {
         "name": "Weight",
         "rawType": "float64",
         "type": "float"
        },
        {
         "name": "BMI",
         "rawType": "float64",
         "type": "float"
        },
        {
         "name": "R5Hz_PP",
         "rawType": "float64",
         "type": "float"
        },
        {
         "name": "R20Hz_PP",
         "rawType": "float64",
         "type": "float"
        },
        {
         "name": "X5Hz_PP",
         "rawType": "float64",
         "type": "float"
        },
        {
         "name": "Fres_PP",
         "rawType": "float64",
         "type": "float"
        },
        {
         "name": "Asthma",
         "rawType": "object",
         "type": "string"
        }
       ],
       "ref": "a448b3ac-8750-4143-a0da-64133b87ee22",
       "rows": [
        [
         "0",
         "0.0",
         "0.0",
         "0.0",
         "Homme",
         "11",
         "130.73749999999995",
         "25.8",
         "15.5",
         "7.36",
         "3.91",
         "-0.72",
         "5.52",
         "Asthmatique"
        ],
        [
         "1",
         "0.0",
         "0.0",
         "0.0",
         "Femme",
         "33",
         "164.0",
         "56.1",
         "20.9",
         "1.61",
         "2.29",
         "-0.46",
         "16.6",
         "Normal"
        ],
        [
         "2",
         "0.0",
         "0.0",
         "0.0",
         "Femme",
         "15",
         "130.73749999999995",
         "23.5",
         "15.9",
         "2.71",
         "2.49",
         "-0.47",
         "10.52",
         "Normal"
        ],
        [
         "3",
         "0.0",
         "0.0",
         "0.0",
         "Femme",
         "37",
         "154.5",
         "60.9",
         "25.5",
         "5.18",
         "3.58",
         "-0.47",
         "23.58",
         "Asthmatique"
        ],
        [
         "4",
         "0.0",
         "0.0",
         "0.0",
         "Homme",
         "10",
         "130.73749999999995",
         "27.6",
         "27.0",
         "3.52",
         "3.99",
         "-0.35",
         "15.46",
         "Normal"
        ]
       ],
       "shape": {
        "columns": 13,
        "rows": 5
       }
      },
      "text/html": [
       "<div>\n",
       "<style scoped>\n",
       "    .dataframe tbody tr th:only-of-type {\n",
       "        vertical-align: middle;\n",
       "    }\n",
       "\n",
       "    .dataframe tbody tr th {\n",
       "        vertical-align: top;\n",
       "    }\n",
       "\n",
       "    .dataframe thead th {\n",
       "        text-align: right;\n",
       "    }\n",
       "</style>\n",
       "<table border=\"1\" class=\"dataframe\">\n",
       "  <thead>\n",
       "    <tr style=\"text-align: right;\">\n",
       "      <th></th>\n",
       "      <th>Hydroxyurea</th>\n",
       "      <th>ICS</th>\n",
       "      <th>LABA</th>\n",
       "      <th>Gender</th>\n",
       "      <th>Age</th>\n",
       "      <th>Height</th>\n",
       "      <th>Weight</th>\n",
       "      <th>BMI</th>\n",
       "      <th>R5Hz_PP</th>\n",
       "      <th>R20Hz_PP</th>\n",
       "      <th>X5Hz_PP</th>\n",
       "      <th>Fres_PP</th>\n",
       "      <th>Asthma</th>\n",
       "    </tr>\n",
       "  </thead>\n",
       "  <tbody>\n",
       "    <tr>\n",
       "      <th>0</th>\n",
       "      <td>0.0</td>\n",
       "      <td>0.0</td>\n",
       "      <td>0.0</td>\n",
       "      <td>Homme</td>\n",
       "      <td>11</td>\n",
       "      <td>130.7375</td>\n",
       "      <td>25.8</td>\n",
       "      <td>15.5</td>\n",
       "      <td>7.36</td>\n",
       "      <td>3.91</td>\n",
       "      <td>-0.72</td>\n",
       "      <td>5.52</td>\n",
       "      <td>Asthmatique</td>\n",
       "    </tr>\n",
       "    <tr>\n",
       "      <th>1</th>\n",
       "      <td>0.0</td>\n",
       "      <td>0.0</td>\n",
       "      <td>0.0</td>\n",
       "      <td>Femme</td>\n",
       "      <td>33</td>\n",
       "      <td>164.0000</td>\n",
       "      <td>56.1</td>\n",
       "      <td>20.9</td>\n",
       "      <td>1.61</td>\n",
       "      <td>2.29</td>\n",
       "      <td>-0.46</td>\n",
       "      <td>16.60</td>\n",
       "      <td>Normal</td>\n",
       "    </tr>\n",
       "    <tr>\n",
       "      <th>2</th>\n",
       "      <td>0.0</td>\n",
       "      <td>0.0</td>\n",
       "      <td>0.0</td>\n",
       "      <td>Femme</td>\n",
       "      <td>15</td>\n",
       "      <td>130.7375</td>\n",
       "      <td>23.5</td>\n",
       "      <td>15.9</td>\n",
       "      <td>2.71</td>\n",
       "      <td>2.49</td>\n",
       "      <td>-0.47</td>\n",
       "      <td>10.52</td>\n",
       "      <td>Normal</td>\n",
       "    </tr>\n",
       "    <tr>\n",
       "      <th>3</th>\n",
       "      <td>0.0</td>\n",
       "      <td>0.0</td>\n",
       "      <td>0.0</td>\n",
       "      <td>Femme</td>\n",
       "      <td>37</td>\n",
       "      <td>154.5000</td>\n",
       "      <td>60.9</td>\n",
       "      <td>25.5</td>\n",
       "      <td>5.18</td>\n",
       "      <td>3.58</td>\n",
       "      <td>-0.47</td>\n",
       "      <td>23.58</td>\n",
       "      <td>Asthmatique</td>\n",
       "    </tr>\n",
       "    <tr>\n",
       "      <th>4</th>\n",
       "      <td>0.0</td>\n",
       "      <td>0.0</td>\n",
       "      <td>0.0</td>\n",
       "      <td>Homme</td>\n",
       "      <td>10</td>\n",
       "      <td>130.7375</td>\n",
       "      <td>27.6</td>\n",
       "      <td>27.0</td>\n",
       "      <td>3.52</td>\n",
       "      <td>3.99</td>\n",
       "      <td>-0.35</td>\n",
       "      <td>15.46</td>\n",
       "      <td>Normal</td>\n",
       "    </tr>\n",
       "  </tbody>\n",
       "</table>\n",
       "</div>"
      ],
      "text/plain": [
       "   Hydroxyurea  ICS  LABA Gender  Age    Height  Weight   BMI  R5Hz_PP  \\\n",
       "0          0.0  0.0   0.0  Homme   11  130.7375    25.8  15.5     7.36   \n",
       "1          0.0  0.0   0.0  Femme   33  164.0000    56.1  20.9     1.61   \n",
       "2          0.0  0.0   0.0  Femme   15  130.7375    23.5  15.9     2.71   \n",
       "3          0.0  0.0   0.0  Femme   37  154.5000    60.9  25.5     5.18   \n",
       "4          0.0  0.0   0.0  Homme   10  130.7375    27.6  27.0     3.52   \n",
       "\n",
       "   R20Hz_PP  X5Hz_PP  Fres_PP       Asthma  \n",
       "0      3.91    -0.72     5.52  Asthmatique  \n",
       "1      2.29    -0.46    16.60       Normal  \n",
       "2      2.49    -0.47    10.52       Normal  \n",
       "3      3.58    -0.47    23.58  Asthmatique  \n",
       "4      3.99    -0.35    15.46       Normal  "
      ]
     },
     "execution_count": 22,
     "metadata": {},
     "output_type": "execute_result"
    }
   ],
   "source": [
    "data.head()"
   ]
  },
  {
   "cell_type": "code",
   "execution_count": 23,
   "id": "13233ad4",
   "metadata": {},
   "outputs": [],
   "source": [
    "# Sauvegarde du dataset nettoyé\n",
    "data.to_csv(\"dataset_asthma_Clean.csv\", index=False)"
   ]
  },
  {
   "cell_type": "markdown",
   "id": "ca2f1b0e",
   "metadata": {},
   "source": [
    "# Modèle de Machine Learning (Random Forest Classifier)"
   ]
  },
  {
   "cell_type": "code",
   "execution_count": 24,
   "id": "492ea72e",
   "metadata": {},
   "outputs": [],
   "source": [
    "from sklearn.model_selection import train_test_split, GridSearchCV\n",
    "from sklearn.preprocessing import StandardScaler, OneHotEncoder, LabelEncoder, label_binarize\n",
    "from sklearn.impute import SimpleImputer\n",
    "from sklearn.compose import ColumnTransformer\n",
    "from sklearn.pipeline import Pipeline\n",
    "from sklearn.ensemble import RandomForestClassifier\n",
    "from sklearn.metrics import classification_report, confusion_matrix, roc_auc_score, RocCurveDisplay"
   ]
  },
  {
   "cell_type": "code",
   "execution_count": 25,
   "id": "bd926a12",
   "metadata": {},
   "outputs": [
    {
     "data": {
      "application/vnd.microsoft.datawrangler.viewer.v0+json": {
       "columns": [
        {
         "name": "index",
         "rawType": "int64",
         "type": "integer"
        },
        {
         "name": "Hydroxyurea",
         "rawType": "float64",
         "type": "float"
        },
        {
         "name": "ICS",
         "rawType": "float64",
         "type": "float"
        },
        {
         "name": "LABA",
         "rawType": "float64",
         "type": "float"
        },
        {
         "name": "Gender",
         "rawType": "int32",
         "type": "integer"
        },
        {
         "name": "Age",
         "rawType": "int64",
         "type": "integer"
        },
        {
         "name": "Height",
         "rawType": "float64",
         "type": "float"
        },
        {
         "name": "Weight",
         "rawType": "float64",
         "type": "float"
        },
        {
         "name": "BMI",
         "rawType": "float64",
         "type": "float"
        },
        {
         "name": "R5Hz_PP",
         "rawType": "float64",
         "type": "float"
        },
        {
         "name": "R20Hz_PP",
         "rawType": "float64",
         "type": "float"
        },
        {
         "name": "X5Hz_PP",
         "rawType": "float64",
         "type": "float"
        },
        {
         "name": "Fres_PP",
         "rawType": "float64",
         "type": "float"
        },
        {
         "name": "New_Asthma",
         "rawType": "int32",
         "type": "integer"
        }
       ],
       "ref": "3a20d57f-b743-4b4f-903d-e6198a9ab9be",
       "rows": [
        [
         "0",
         "0.0",
         "0.0",
         "0.0",
         "1",
         "11",
         "130.73749999999995",
         "25.8",
         "15.5",
         "7.36",
         "3.91",
         "-0.72",
         "5.52",
         "1"
        ],
        [
         "1",
         "0.0",
         "0.0",
         "0.0",
         "0",
         "33",
         "164.0",
         "56.1",
         "20.9",
         "1.61",
         "2.29",
         "-0.46",
         "16.6",
         "0"
        ],
        [
         "2",
         "0.0",
         "0.0",
         "0.0",
         "0",
         "15",
         "130.73749999999995",
         "23.5",
         "15.9",
         "2.71",
         "2.49",
         "-0.47",
         "10.52",
         "0"
        ],
        [
         "3",
         "0.0",
         "0.0",
         "0.0",
         "0",
         "37",
         "154.5",
         "60.9",
         "25.5",
         "5.18",
         "3.58",
         "-0.47",
         "23.58",
         "1"
        ],
        [
         "4",
         "0.0",
         "0.0",
         "0.0",
         "1",
         "10",
         "130.73749999999995",
         "27.6",
         "27.0",
         "3.52",
         "3.99",
         "-0.35",
         "15.46",
         "0"
        ]
       ],
       "shape": {
        "columns": 13,
        "rows": 5
       }
      },
      "text/html": [
       "<div>\n",
       "<style scoped>\n",
       "    .dataframe tbody tr th:only-of-type {\n",
       "        vertical-align: middle;\n",
       "    }\n",
       "\n",
       "    .dataframe tbody tr th {\n",
       "        vertical-align: top;\n",
       "    }\n",
       "\n",
       "    .dataframe thead th {\n",
       "        text-align: right;\n",
       "    }\n",
       "</style>\n",
       "<table border=\"1\" class=\"dataframe\">\n",
       "  <thead>\n",
       "    <tr style=\"text-align: right;\">\n",
       "      <th></th>\n",
       "      <th>Hydroxyurea</th>\n",
       "      <th>ICS</th>\n",
       "      <th>LABA</th>\n",
       "      <th>Gender</th>\n",
       "      <th>Age</th>\n",
       "      <th>Height</th>\n",
       "      <th>Weight</th>\n",
       "      <th>BMI</th>\n",
       "      <th>R5Hz_PP</th>\n",
       "      <th>R20Hz_PP</th>\n",
       "      <th>X5Hz_PP</th>\n",
       "      <th>Fres_PP</th>\n",
       "      <th>New_Asthma</th>\n",
       "    </tr>\n",
       "  </thead>\n",
       "  <tbody>\n",
       "    <tr>\n",
       "      <th>0</th>\n",
       "      <td>0.0</td>\n",
       "      <td>0.0</td>\n",
       "      <td>0.0</td>\n",
       "      <td>1</td>\n",
       "      <td>11</td>\n",
       "      <td>130.7375</td>\n",
       "      <td>25.8</td>\n",
       "      <td>15.5</td>\n",
       "      <td>7.36</td>\n",
       "      <td>3.91</td>\n",
       "      <td>-0.72</td>\n",
       "      <td>5.52</td>\n",
       "      <td>1</td>\n",
       "    </tr>\n",
       "    <tr>\n",
       "      <th>1</th>\n",
       "      <td>0.0</td>\n",
       "      <td>0.0</td>\n",
       "      <td>0.0</td>\n",
       "      <td>0</td>\n",
       "      <td>33</td>\n",
       "      <td>164.0000</td>\n",
       "      <td>56.1</td>\n",
       "      <td>20.9</td>\n",
       "      <td>1.61</td>\n",
       "      <td>2.29</td>\n",
       "      <td>-0.46</td>\n",
       "      <td>16.60</td>\n",
       "      <td>0</td>\n",
       "    </tr>\n",
       "    <tr>\n",
       "      <th>2</th>\n",
       "      <td>0.0</td>\n",
       "      <td>0.0</td>\n",
       "      <td>0.0</td>\n",
       "      <td>0</td>\n",
       "      <td>15</td>\n",
       "      <td>130.7375</td>\n",
       "      <td>23.5</td>\n",
       "      <td>15.9</td>\n",
       "      <td>2.71</td>\n",
       "      <td>2.49</td>\n",
       "      <td>-0.47</td>\n",
       "      <td>10.52</td>\n",
       "      <td>0</td>\n",
       "    </tr>\n",
       "    <tr>\n",
       "      <th>3</th>\n",
       "      <td>0.0</td>\n",
       "      <td>0.0</td>\n",
       "      <td>0.0</td>\n",
       "      <td>0</td>\n",
       "      <td>37</td>\n",
       "      <td>154.5000</td>\n",
       "      <td>60.9</td>\n",
       "      <td>25.5</td>\n",
       "      <td>5.18</td>\n",
       "      <td>3.58</td>\n",
       "      <td>-0.47</td>\n",
       "      <td>23.58</td>\n",
       "      <td>1</td>\n",
       "    </tr>\n",
       "    <tr>\n",
       "      <th>4</th>\n",
       "      <td>0.0</td>\n",
       "      <td>0.0</td>\n",
       "      <td>0.0</td>\n",
       "      <td>1</td>\n",
       "      <td>10</td>\n",
       "      <td>130.7375</td>\n",
       "      <td>27.6</td>\n",
       "      <td>27.0</td>\n",
       "      <td>3.52</td>\n",
       "      <td>3.99</td>\n",
       "      <td>-0.35</td>\n",
       "      <td>15.46</td>\n",
       "      <td>0</td>\n",
       "    </tr>\n",
       "  </tbody>\n",
       "</table>\n",
       "</div>"
      ],
      "text/plain": [
       "   Hydroxyurea  ICS  LABA  Gender  Age    Height  Weight   BMI  R5Hz_PP  \\\n",
       "0          0.0  0.0   0.0       1   11  130.7375    25.8  15.5     7.36   \n",
       "1          0.0  0.0   0.0       0   33  164.0000    56.1  20.9     1.61   \n",
       "2          0.0  0.0   0.0       0   15  130.7375    23.5  15.9     2.71   \n",
       "3          0.0  0.0   0.0       0   37  154.5000    60.9  25.5     5.18   \n",
       "4          0.0  0.0   0.0       1   10  130.7375    27.6  27.0     3.52   \n",
       "\n",
       "   R20Hz_PP  X5Hz_PP  Fres_PP  New_Asthma  \n",
       "0      3.91    -0.72     5.52           1  \n",
       "1      2.29    -0.46    16.60           0  \n",
       "2      2.49    -0.47    10.52           0  \n",
       "3      3.58    -0.47    23.58           1  \n",
       "4      3.99    -0.35    15.46           0  "
      ]
     },
     "execution_count": 25,
     "metadata": {},
     "output_type": "execute_result"
    }
   ],
   "source": [
    "# Encodage de la variable cible cut et de Gender, utilisation de LabelEncoder\n",
    "# Cible : Asthmatique=1, Normal=0\n",
    "data[\"New_Asthma\"] = data[\"Asthma\"].map({\"Normal\": 0, \"Asthmatique\": 1}).astype(int)\n",
    "\n",
    "# (Option) Encodage binaire cohérent pour le sexe\n",
    "data[\"Gender\"] = data[\"Gender\"].map({\"Femme\": 0, \"Homme\": 1}).astype(int)\n",
    "\n",
    "# On peut maintenant supprimer l’ancienne colonne\n",
    "data.drop(columns=[\"Asthma\"], inplace=True)\n",
    "\n",
    "# Vérifier le résultat\n",
    "data.head()"
   ]
  },
  {
   "cell_type": "code",
   "execution_count": 26,
   "id": "983d6f56",
   "metadata": {},
   "outputs": [],
   "source": [
    "# Séparation des variables secondaires et de la variable cible\n",
    "X = data.drop(columns=['New_Asthma'])\n",
    "y = data['New_Asthma']"
   ]
  },
  {
   "cell_type": "code",
   "execution_count": 27,
   "id": "265106c1",
   "metadata": {},
   "outputs": [],
   "source": [
    "# Séparation du jeu de données en ensembles d'entraînement et de test\n",
    "X_train, X_test, y_train, y_test = train_test_split(X, y, test_size=0.2, random_state=42, stratify=y)"
   ]
  },
  {
   "cell_type": "code",
   "execution_count": 28,
   "id": "a7925d40",
   "metadata": {},
   "outputs": [],
   "source": [
    "categorical_features = [\"Hydroxyurea\", \"ICS\", \"LABA\", \"Gender\"]\n",
    "numerical_features = [\"Age\", \"Height\", \"Weight\", \"BMI\", \"R5Hz_PP\", \"R20Hz_PP\", \"X5Hz_PP\", \"Fres_PP\"]"
   ]
  },
  {
   "cell_type": "code",
   "execution_count": 29,
   "id": "2b71d70f",
   "metadata": {},
   "outputs": [],
   "source": [
    "# Pipeline de preprocessing\n",
    "\n",
    "preprocessor = ColumnTransformer(\n",
    "    transformers=[\n",
    "        ('num', Pipeline(steps=[\n",
    "            ('imputer', SimpleImputer(strategy='median')),\n",
    "            ('scaler', StandardScaler())\n",
    "        ]), numerical_features),\n",
    "        ('cat', Pipeline(steps=[\n",
    "            ('imputer', SimpleImputer(strategy='most_frequent')),\n",
    "            ('onehot', OneHotEncoder(handle_unknown='ignore'))\n",
    "        ]), categorical_features)\n",
    "    ]\n",
    ")"
   ]
  },
  {
   "cell_type": "code",
   "execution_count": 30,
   "id": "f0a1afef",
   "metadata": {},
   "outputs": [],
   "source": [
    "# Création du pipeline ML\n",
    "\n",
    "ml_model = Pipeline(steps=[\n",
    "    ('preprocessor', preprocessor),\n",
    "    ('classifier', RandomForestClassifier(random_state=42))\n",
    "])"
   ]
  },
  {
   "cell_type": "code",
   "execution_count": 31,
   "id": "f8cbc935",
   "metadata": {},
   "outputs": [
    {
     "name": "stdout",
     "output_type": "stream",
     "text": [
      "Fitting 5 folds for each of 108 candidates, totalling 540 fits\n"
     ]
    },
    {
     "data": {
      "text/html": [
       "<style>#sk-container-id-1 {\n",
       "  /* Definition of color scheme common for light and dark mode */\n",
       "  --sklearn-color-text: #000;\n",
       "  --sklearn-color-text-muted: #666;\n",
       "  --sklearn-color-line: gray;\n",
       "  /* Definition of color scheme for unfitted estimators */\n",
       "  --sklearn-color-unfitted-level-0: #fff5e6;\n",
       "  --sklearn-color-unfitted-level-1: #f6e4d2;\n",
       "  --sklearn-color-unfitted-level-2: #ffe0b3;\n",
       "  --sklearn-color-unfitted-level-3: chocolate;\n",
       "  /* Definition of color scheme for fitted estimators */\n",
       "  --sklearn-color-fitted-level-0: #f0f8ff;\n",
       "  --sklearn-color-fitted-level-1: #d4ebff;\n",
       "  --sklearn-color-fitted-level-2: #b3dbfd;\n",
       "  --sklearn-color-fitted-level-3: cornflowerblue;\n",
       "\n",
       "  /* Specific color for light theme */\n",
       "  --sklearn-color-text-on-default-background: var(--sg-text-color, var(--theme-code-foreground, var(--jp-content-font-color1, black)));\n",
       "  --sklearn-color-background: var(--sg-background-color, var(--theme-background, var(--jp-layout-color0, white)));\n",
       "  --sklearn-color-border-box: var(--sg-text-color, var(--theme-code-foreground, var(--jp-content-font-color1, black)));\n",
       "  --sklearn-color-icon: #696969;\n",
       "\n",
       "  @media (prefers-color-scheme: dark) {\n",
       "    /* Redefinition of color scheme for dark theme */\n",
       "    --sklearn-color-text-on-default-background: var(--sg-text-color, var(--theme-code-foreground, var(--jp-content-font-color1, white)));\n",
       "    --sklearn-color-background: var(--sg-background-color, var(--theme-background, var(--jp-layout-color0, #111)));\n",
       "    --sklearn-color-border-box: var(--sg-text-color, var(--theme-code-foreground, var(--jp-content-font-color1, white)));\n",
       "    --sklearn-color-icon: #878787;\n",
       "  }\n",
       "}\n",
       "\n",
       "#sk-container-id-1 {\n",
       "  color: var(--sklearn-color-text);\n",
       "}\n",
       "\n",
       "#sk-container-id-1 pre {\n",
       "  padding: 0;\n",
       "}\n",
       "\n",
       "#sk-container-id-1 input.sk-hidden--visually {\n",
       "  border: 0;\n",
       "  clip: rect(1px 1px 1px 1px);\n",
       "  clip: rect(1px, 1px, 1px, 1px);\n",
       "  height: 1px;\n",
       "  margin: -1px;\n",
       "  overflow: hidden;\n",
       "  padding: 0;\n",
       "  position: absolute;\n",
       "  width: 1px;\n",
       "}\n",
       "\n",
       "#sk-container-id-1 div.sk-dashed-wrapped {\n",
       "  border: 1px dashed var(--sklearn-color-line);\n",
       "  margin: 0 0.4em 0.5em 0.4em;\n",
       "  box-sizing: border-box;\n",
       "  padding-bottom: 0.4em;\n",
       "  background-color: var(--sklearn-color-background);\n",
       "}\n",
       "\n",
       "#sk-container-id-1 div.sk-container {\n",
       "  /* jupyter's `normalize.less` sets `[hidden] { display: none; }`\n",
       "     but bootstrap.min.css set `[hidden] { display: none !important; }`\n",
       "     so we also need the `!important` here to be able to override the\n",
       "     default hidden behavior on the sphinx rendered scikit-learn.org.\n",
       "     See: https://github.com/scikit-learn/scikit-learn/issues/21755 */\n",
       "  display: inline-block !important;\n",
       "  position: relative;\n",
       "}\n",
       "\n",
       "#sk-container-id-1 div.sk-text-repr-fallback {\n",
       "  display: none;\n",
       "}\n",
       "\n",
       "div.sk-parallel-item,\n",
       "div.sk-serial,\n",
       "div.sk-item {\n",
       "  /* draw centered vertical line to link estimators */\n",
       "  background-image: linear-gradient(var(--sklearn-color-text-on-default-background), var(--sklearn-color-text-on-default-background));\n",
       "  background-size: 2px 100%;\n",
       "  background-repeat: no-repeat;\n",
       "  background-position: center center;\n",
       "}\n",
       "\n",
       "/* Parallel-specific style estimator block */\n",
       "\n",
       "#sk-container-id-1 div.sk-parallel-item::after {\n",
       "  content: \"\";\n",
       "  width: 100%;\n",
       "  border-bottom: 2px solid var(--sklearn-color-text-on-default-background);\n",
       "  flex-grow: 1;\n",
       "}\n",
       "\n",
       "#sk-container-id-1 div.sk-parallel {\n",
       "  display: flex;\n",
       "  align-items: stretch;\n",
       "  justify-content: center;\n",
       "  background-color: var(--sklearn-color-background);\n",
       "  position: relative;\n",
       "}\n",
       "\n",
       "#sk-container-id-1 div.sk-parallel-item {\n",
       "  display: flex;\n",
       "  flex-direction: column;\n",
       "}\n",
       "\n",
       "#sk-container-id-1 div.sk-parallel-item:first-child::after {\n",
       "  align-self: flex-end;\n",
       "  width: 50%;\n",
       "}\n",
       "\n",
       "#sk-container-id-1 div.sk-parallel-item:last-child::after {\n",
       "  align-self: flex-start;\n",
       "  width: 50%;\n",
       "}\n",
       "\n",
       "#sk-container-id-1 div.sk-parallel-item:only-child::after {\n",
       "  width: 0;\n",
       "}\n",
       "\n",
       "/* Serial-specific style estimator block */\n",
       "\n",
       "#sk-container-id-1 div.sk-serial {\n",
       "  display: flex;\n",
       "  flex-direction: column;\n",
       "  align-items: center;\n",
       "  background-color: var(--sklearn-color-background);\n",
       "  padding-right: 1em;\n",
       "  padding-left: 1em;\n",
       "}\n",
       "\n",
       "\n",
       "/* Toggleable style: style used for estimator/Pipeline/ColumnTransformer box that is\n",
       "clickable and can be expanded/collapsed.\n",
       "- Pipeline and ColumnTransformer use this feature and define the default style\n",
       "- Estimators will overwrite some part of the style using the `sk-estimator` class\n",
       "*/\n",
       "\n",
       "/* Pipeline and ColumnTransformer style (default) */\n",
       "\n",
       "#sk-container-id-1 div.sk-toggleable {\n",
       "  /* Default theme specific background. It is overwritten whether we have a\n",
       "  specific estimator or a Pipeline/ColumnTransformer */\n",
       "  background-color: var(--sklearn-color-background);\n",
       "}\n",
       "\n",
       "/* Toggleable label */\n",
       "#sk-container-id-1 label.sk-toggleable__label {\n",
       "  cursor: pointer;\n",
       "  display: flex;\n",
       "  width: 100%;\n",
       "  margin-bottom: 0;\n",
       "  padding: 0.5em;\n",
       "  box-sizing: border-box;\n",
       "  text-align: center;\n",
       "  align-items: start;\n",
       "  justify-content: space-between;\n",
       "  gap: 0.5em;\n",
       "}\n",
       "\n",
       "#sk-container-id-1 label.sk-toggleable__label .caption {\n",
       "  font-size: 0.6rem;\n",
       "  font-weight: lighter;\n",
       "  color: var(--sklearn-color-text-muted);\n",
       "}\n",
       "\n",
       "#sk-container-id-1 label.sk-toggleable__label-arrow:before {\n",
       "  /* Arrow on the left of the label */\n",
       "  content: \"▸\";\n",
       "  float: left;\n",
       "  margin-right: 0.25em;\n",
       "  color: var(--sklearn-color-icon);\n",
       "}\n",
       "\n",
       "#sk-container-id-1 label.sk-toggleable__label-arrow:hover:before {\n",
       "  color: var(--sklearn-color-text);\n",
       "}\n",
       "\n",
       "/* Toggleable content - dropdown */\n",
       "\n",
       "#sk-container-id-1 div.sk-toggleable__content {\n",
       "  max-height: 0;\n",
       "  max-width: 0;\n",
       "  overflow: hidden;\n",
       "  text-align: left;\n",
       "  /* unfitted */\n",
       "  background-color: var(--sklearn-color-unfitted-level-0);\n",
       "}\n",
       "\n",
       "#sk-container-id-1 div.sk-toggleable__content.fitted {\n",
       "  /* fitted */\n",
       "  background-color: var(--sklearn-color-fitted-level-0);\n",
       "}\n",
       "\n",
       "#sk-container-id-1 div.sk-toggleable__content pre {\n",
       "  margin: 0.2em;\n",
       "  border-radius: 0.25em;\n",
       "  color: var(--sklearn-color-text);\n",
       "  /* unfitted */\n",
       "  background-color: var(--sklearn-color-unfitted-level-0);\n",
       "}\n",
       "\n",
       "#sk-container-id-1 div.sk-toggleable__content.fitted pre {\n",
       "  /* unfitted */\n",
       "  background-color: var(--sklearn-color-fitted-level-0);\n",
       "}\n",
       "\n",
       "#sk-container-id-1 input.sk-toggleable__control:checked~div.sk-toggleable__content {\n",
       "  /* Expand drop-down */\n",
       "  max-height: 200px;\n",
       "  max-width: 100%;\n",
       "  overflow: auto;\n",
       "}\n",
       "\n",
       "#sk-container-id-1 input.sk-toggleable__control:checked~label.sk-toggleable__label-arrow:before {\n",
       "  content: \"▾\";\n",
       "}\n",
       "\n",
       "/* Pipeline/ColumnTransformer-specific style */\n",
       "\n",
       "#sk-container-id-1 div.sk-label input.sk-toggleable__control:checked~label.sk-toggleable__label {\n",
       "  color: var(--sklearn-color-text);\n",
       "  background-color: var(--sklearn-color-unfitted-level-2);\n",
       "}\n",
       "\n",
       "#sk-container-id-1 div.sk-label.fitted input.sk-toggleable__control:checked~label.sk-toggleable__label {\n",
       "  background-color: var(--sklearn-color-fitted-level-2);\n",
       "}\n",
       "\n",
       "/* Estimator-specific style */\n",
       "\n",
       "/* Colorize estimator box */\n",
       "#sk-container-id-1 div.sk-estimator input.sk-toggleable__control:checked~label.sk-toggleable__label {\n",
       "  /* unfitted */\n",
       "  background-color: var(--sklearn-color-unfitted-level-2);\n",
       "}\n",
       "\n",
       "#sk-container-id-1 div.sk-estimator.fitted input.sk-toggleable__control:checked~label.sk-toggleable__label {\n",
       "  /* fitted */\n",
       "  background-color: var(--sklearn-color-fitted-level-2);\n",
       "}\n",
       "\n",
       "#sk-container-id-1 div.sk-label label.sk-toggleable__label,\n",
       "#sk-container-id-1 div.sk-label label {\n",
       "  /* The background is the default theme color */\n",
       "  color: var(--sklearn-color-text-on-default-background);\n",
       "}\n",
       "\n",
       "/* On hover, darken the color of the background */\n",
       "#sk-container-id-1 div.sk-label:hover label.sk-toggleable__label {\n",
       "  color: var(--sklearn-color-text);\n",
       "  background-color: var(--sklearn-color-unfitted-level-2);\n",
       "}\n",
       "\n",
       "/* Label box, darken color on hover, fitted */\n",
       "#sk-container-id-1 div.sk-label.fitted:hover label.sk-toggleable__label.fitted {\n",
       "  color: var(--sklearn-color-text);\n",
       "  background-color: var(--sklearn-color-fitted-level-2);\n",
       "}\n",
       "\n",
       "/* Estimator label */\n",
       "\n",
       "#sk-container-id-1 div.sk-label label {\n",
       "  font-family: monospace;\n",
       "  font-weight: bold;\n",
       "  display: inline-block;\n",
       "  line-height: 1.2em;\n",
       "}\n",
       "\n",
       "#sk-container-id-1 div.sk-label-container {\n",
       "  text-align: center;\n",
       "}\n",
       "\n",
       "/* Estimator-specific */\n",
       "#sk-container-id-1 div.sk-estimator {\n",
       "  font-family: monospace;\n",
       "  border: 1px dotted var(--sklearn-color-border-box);\n",
       "  border-radius: 0.25em;\n",
       "  box-sizing: border-box;\n",
       "  margin-bottom: 0.5em;\n",
       "  /* unfitted */\n",
       "  background-color: var(--sklearn-color-unfitted-level-0);\n",
       "}\n",
       "\n",
       "#sk-container-id-1 div.sk-estimator.fitted {\n",
       "  /* fitted */\n",
       "  background-color: var(--sklearn-color-fitted-level-0);\n",
       "}\n",
       "\n",
       "/* on hover */\n",
       "#sk-container-id-1 div.sk-estimator:hover {\n",
       "  /* unfitted */\n",
       "  background-color: var(--sklearn-color-unfitted-level-2);\n",
       "}\n",
       "\n",
       "#sk-container-id-1 div.sk-estimator.fitted:hover {\n",
       "  /* fitted */\n",
       "  background-color: var(--sklearn-color-fitted-level-2);\n",
       "}\n",
       "\n",
       "/* Specification for estimator info (e.g. \"i\" and \"?\") */\n",
       "\n",
       "/* Common style for \"i\" and \"?\" */\n",
       "\n",
       ".sk-estimator-doc-link,\n",
       "a:link.sk-estimator-doc-link,\n",
       "a:visited.sk-estimator-doc-link {\n",
       "  float: right;\n",
       "  font-size: smaller;\n",
       "  line-height: 1em;\n",
       "  font-family: monospace;\n",
       "  background-color: var(--sklearn-color-background);\n",
       "  border-radius: 1em;\n",
       "  height: 1em;\n",
       "  width: 1em;\n",
       "  text-decoration: none !important;\n",
       "  margin-left: 0.5em;\n",
       "  text-align: center;\n",
       "  /* unfitted */\n",
       "  border: var(--sklearn-color-unfitted-level-1) 1pt solid;\n",
       "  color: var(--sklearn-color-unfitted-level-1);\n",
       "}\n",
       "\n",
       ".sk-estimator-doc-link.fitted,\n",
       "a:link.sk-estimator-doc-link.fitted,\n",
       "a:visited.sk-estimator-doc-link.fitted {\n",
       "  /* fitted */\n",
       "  border: var(--sklearn-color-fitted-level-1) 1pt solid;\n",
       "  color: var(--sklearn-color-fitted-level-1);\n",
       "}\n",
       "\n",
       "/* On hover */\n",
       "div.sk-estimator:hover .sk-estimator-doc-link:hover,\n",
       ".sk-estimator-doc-link:hover,\n",
       "div.sk-label-container:hover .sk-estimator-doc-link:hover,\n",
       ".sk-estimator-doc-link:hover {\n",
       "  /* unfitted */\n",
       "  background-color: var(--sklearn-color-unfitted-level-3);\n",
       "  color: var(--sklearn-color-background);\n",
       "  text-decoration: none;\n",
       "}\n",
       "\n",
       "div.sk-estimator.fitted:hover .sk-estimator-doc-link.fitted:hover,\n",
       ".sk-estimator-doc-link.fitted:hover,\n",
       "div.sk-label-container:hover .sk-estimator-doc-link.fitted:hover,\n",
       ".sk-estimator-doc-link.fitted:hover {\n",
       "  /* fitted */\n",
       "  background-color: var(--sklearn-color-fitted-level-3);\n",
       "  color: var(--sklearn-color-background);\n",
       "  text-decoration: none;\n",
       "}\n",
       "\n",
       "/* Span, style for the box shown on hovering the info icon */\n",
       ".sk-estimator-doc-link span {\n",
       "  display: none;\n",
       "  z-index: 9999;\n",
       "  position: relative;\n",
       "  font-weight: normal;\n",
       "  right: .2ex;\n",
       "  padding: .5ex;\n",
       "  margin: .5ex;\n",
       "  width: min-content;\n",
       "  min-width: 20ex;\n",
       "  max-width: 50ex;\n",
       "  color: var(--sklearn-color-text);\n",
       "  box-shadow: 2pt 2pt 4pt #999;\n",
       "  /* unfitted */\n",
       "  background: var(--sklearn-color-unfitted-level-0);\n",
       "  border: .5pt solid var(--sklearn-color-unfitted-level-3);\n",
       "}\n",
       "\n",
       ".sk-estimator-doc-link.fitted span {\n",
       "  /* fitted */\n",
       "  background: var(--sklearn-color-fitted-level-0);\n",
       "  border: var(--sklearn-color-fitted-level-3);\n",
       "}\n",
       "\n",
       ".sk-estimator-doc-link:hover span {\n",
       "  display: block;\n",
       "}\n",
       "\n",
       "/* \"?\"-specific style due to the `<a>` HTML tag */\n",
       "\n",
       "#sk-container-id-1 a.estimator_doc_link {\n",
       "  float: right;\n",
       "  font-size: 1rem;\n",
       "  line-height: 1em;\n",
       "  font-family: monospace;\n",
       "  background-color: var(--sklearn-color-background);\n",
       "  border-radius: 1rem;\n",
       "  height: 1rem;\n",
       "  width: 1rem;\n",
       "  text-decoration: none;\n",
       "  /* unfitted */\n",
       "  color: var(--sklearn-color-unfitted-level-1);\n",
       "  border: var(--sklearn-color-unfitted-level-1) 1pt solid;\n",
       "}\n",
       "\n",
       "#sk-container-id-1 a.estimator_doc_link.fitted {\n",
       "  /* fitted */\n",
       "  border: var(--sklearn-color-fitted-level-1) 1pt solid;\n",
       "  color: var(--sklearn-color-fitted-level-1);\n",
       "}\n",
       "\n",
       "/* On hover */\n",
       "#sk-container-id-1 a.estimator_doc_link:hover {\n",
       "  /* unfitted */\n",
       "  background-color: var(--sklearn-color-unfitted-level-3);\n",
       "  color: var(--sklearn-color-background);\n",
       "  text-decoration: none;\n",
       "}\n",
       "\n",
       "#sk-container-id-1 a.estimator_doc_link.fitted:hover {\n",
       "  /* fitted */\n",
       "  background-color: var(--sklearn-color-fitted-level-3);\n",
       "}\n",
       "</style><div id=\"sk-container-id-1\" class=\"sk-top-container\"><div class=\"sk-text-repr-fallback\"><pre>GridSearchCV(cv=5,\n",
       "             estimator=Pipeline(steps=[(&#x27;preprocessor&#x27;,\n",
       "                                        ColumnTransformer(transformers=[(&#x27;num&#x27;,\n",
       "                                                                         Pipeline(steps=[(&#x27;imputer&#x27;,\n",
       "                                                                                          SimpleImputer(strategy=&#x27;median&#x27;)),\n",
       "                                                                                         (&#x27;scaler&#x27;,\n",
       "                                                                                          StandardScaler())]),\n",
       "                                                                         [&#x27;Age&#x27;,\n",
       "                                                                          &#x27;Height&#x27;,\n",
       "                                                                          &#x27;Weight&#x27;,\n",
       "                                                                          &#x27;BMI&#x27;,\n",
       "                                                                          &#x27;R5Hz_PP&#x27;,\n",
       "                                                                          &#x27;R20Hz_PP&#x27;,\n",
       "                                                                          &#x27;X5Hz_PP&#x27;,\n",
       "                                                                          &#x27;Fres_PP&#x27;]),\n",
       "                                                                        (&#x27;cat&#x27;,\n",
       "                                                                         Pipeline(steps=[(&#x27;imputer&#x27;,\n",
       "                                                                                          SimpleImputer(strategy=&#x27;most_frequent&#x27;)),\n",
       "                                                                                         (&#x27;onehot&#x27;,\n",
       "                                                                                          OneHotEncoder(handle_unknown=&#x27;ignore&#x27;))]),\n",
       "                                                                         [&#x27;Hydroxyurea&#x27;,\n",
       "                                                                          &#x27;ICS&#x27;,\n",
       "                                                                          &#x27;LABA&#x27;,\n",
       "                                                                          &#x27;Gender&#x27;])])),\n",
       "                                       (&#x27;classifier&#x27;,\n",
       "                                        RandomForestClassifier(random_state=42))]),\n",
       "             n_jobs=-1,\n",
       "             param_grid={&#x27;classifier__max_depth&#x27;: [5, 10, 15, None],\n",
       "                         &#x27;classifier__min_samples_leaf&#x27;: [1, 2, 4],\n",
       "                         &#x27;classifier__min_samples_split&#x27;: [2, 5, 10],\n",
       "                         &#x27;classifier__n_estimators&#x27;: [100, 200, 300]},\n",
       "             scoring=&#x27;f1&#x27;, verbose=2)</pre><b>In a Jupyter environment, please rerun this cell to show the HTML representation or trust the notebook. <br />On GitHub, the HTML representation is unable to render, please try loading this page with nbviewer.org.</b></div><div class=\"sk-container\" hidden><div class=\"sk-item sk-dashed-wrapped\"><div class=\"sk-label-container\"><div class=\"sk-label fitted sk-toggleable\"><input class=\"sk-toggleable__control sk-hidden--visually\" id=\"sk-estimator-id-1\" type=\"checkbox\" ><label for=\"sk-estimator-id-1\" class=\"sk-toggleable__label fitted sk-toggleable__label-arrow\"><div><div>GridSearchCV</div></div><div><a class=\"sk-estimator-doc-link fitted\" rel=\"noreferrer\" target=\"_blank\" href=\"https://scikit-learn.org/1.6/modules/generated/sklearn.model_selection.GridSearchCV.html\">?<span>Documentation for GridSearchCV</span></a><span class=\"sk-estimator-doc-link fitted\">i<span>Fitted</span></span></div></label><div class=\"sk-toggleable__content fitted\"><pre>GridSearchCV(cv=5,\n",
       "             estimator=Pipeline(steps=[(&#x27;preprocessor&#x27;,\n",
       "                                        ColumnTransformer(transformers=[(&#x27;num&#x27;,\n",
       "                                                                         Pipeline(steps=[(&#x27;imputer&#x27;,\n",
       "                                                                                          SimpleImputer(strategy=&#x27;median&#x27;)),\n",
       "                                                                                         (&#x27;scaler&#x27;,\n",
       "                                                                                          StandardScaler())]),\n",
       "                                                                         [&#x27;Age&#x27;,\n",
       "                                                                          &#x27;Height&#x27;,\n",
       "                                                                          &#x27;Weight&#x27;,\n",
       "                                                                          &#x27;BMI&#x27;,\n",
       "                                                                          &#x27;R5Hz_PP&#x27;,\n",
       "                                                                          &#x27;R20Hz_PP&#x27;,\n",
       "                                                                          &#x27;X5Hz_PP&#x27;,\n",
       "                                                                          &#x27;Fres_PP&#x27;]),\n",
       "                                                                        (&#x27;cat&#x27;,\n",
       "                                                                         Pipeline(steps=[(&#x27;imputer&#x27;,\n",
       "                                                                                          SimpleImputer(strategy=&#x27;most_frequent&#x27;)),\n",
       "                                                                                         (&#x27;onehot&#x27;,\n",
       "                                                                                          OneHotEncoder(handle_unknown=&#x27;ignore&#x27;))]),\n",
       "                                                                         [&#x27;Hydroxyurea&#x27;,\n",
       "                                                                          &#x27;ICS&#x27;,\n",
       "                                                                          &#x27;LABA&#x27;,\n",
       "                                                                          &#x27;Gender&#x27;])])),\n",
       "                                       (&#x27;classifier&#x27;,\n",
       "                                        RandomForestClassifier(random_state=42))]),\n",
       "             n_jobs=-1,\n",
       "             param_grid={&#x27;classifier__max_depth&#x27;: [5, 10, 15, None],\n",
       "                         &#x27;classifier__min_samples_leaf&#x27;: [1, 2, 4],\n",
       "                         &#x27;classifier__min_samples_split&#x27;: [2, 5, 10],\n",
       "                         &#x27;classifier__n_estimators&#x27;: [100, 200, 300]},\n",
       "             scoring=&#x27;f1&#x27;, verbose=2)</pre></div> </div></div><div class=\"sk-parallel\"><div class=\"sk-parallel-item\"><div class=\"sk-item\"><div class=\"sk-label-container\"><div class=\"sk-label fitted sk-toggleable\"><input class=\"sk-toggleable__control sk-hidden--visually\" id=\"sk-estimator-id-2\" type=\"checkbox\" ><label for=\"sk-estimator-id-2\" class=\"sk-toggleable__label fitted sk-toggleable__label-arrow\"><div><div>best_estimator_: Pipeline</div></div></label><div class=\"sk-toggleable__content fitted\"><pre>Pipeline(steps=[(&#x27;preprocessor&#x27;,\n",
       "                 ColumnTransformer(transformers=[(&#x27;num&#x27;,\n",
       "                                                  Pipeline(steps=[(&#x27;imputer&#x27;,\n",
       "                                                                   SimpleImputer(strategy=&#x27;median&#x27;)),\n",
       "                                                                  (&#x27;scaler&#x27;,\n",
       "                                                                   StandardScaler())]),\n",
       "                                                  [&#x27;Age&#x27;, &#x27;Height&#x27;, &#x27;Weight&#x27;,\n",
       "                                                   &#x27;BMI&#x27;, &#x27;R5Hz_PP&#x27;, &#x27;R20Hz_PP&#x27;,\n",
       "                                                   &#x27;X5Hz_PP&#x27;, &#x27;Fres_PP&#x27;]),\n",
       "                                                 (&#x27;cat&#x27;,\n",
       "                                                  Pipeline(steps=[(&#x27;imputer&#x27;,\n",
       "                                                                   SimpleImputer(strategy=&#x27;most_frequent&#x27;)),\n",
       "                                                                  (&#x27;onehot&#x27;,\n",
       "                                                                   OneHotEncoder(handle_unknown=&#x27;ignore&#x27;))]),\n",
       "                                                  [&#x27;Hydroxyurea&#x27;, &#x27;ICS&#x27;, &#x27;LABA&#x27;,\n",
       "                                                   &#x27;Gender&#x27;])])),\n",
       "                (&#x27;classifier&#x27;,\n",
       "                 RandomForestClassifier(max_depth=5, min_samples_leaf=2,\n",
       "                                        min_samples_split=5,\n",
       "                                        random_state=42))])</pre></div> </div></div><div class=\"sk-serial\"><div class=\"sk-item\"><div class=\"sk-serial\"><div class=\"sk-item sk-dashed-wrapped\"><div class=\"sk-label-container\"><div class=\"sk-label fitted sk-toggleable\"><input class=\"sk-toggleable__control sk-hidden--visually\" id=\"sk-estimator-id-3\" type=\"checkbox\" ><label for=\"sk-estimator-id-3\" class=\"sk-toggleable__label fitted sk-toggleable__label-arrow\"><div><div>preprocessor: ColumnTransformer</div></div><div><a class=\"sk-estimator-doc-link fitted\" rel=\"noreferrer\" target=\"_blank\" href=\"https://scikit-learn.org/1.6/modules/generated/sklearn.compose.ColumnTransformer.html\">?<span>Documentation for preprocessor: ColumnTransformer</span></a></div></label><div class=\"sk-toggleable__content fitted\"><pre>ColumnTransformer(transformers=[(&#x27;num&#x27;,\n",
       "                                 Pipeline(steps=[(&#x27;imputer&#x27;,\n",
       "                                                  SimpleImputer(strategy=&#x27;median&#x27;)),\n",
       "                                                 (&#x27;scaler&#x27;, StandardScaler())]),\n",
       "                                 [&#x27;Age&#x27;, &#x27;Height&#x27;, &#x27;Weight&#x27;, &#x27;BMI&#x27;, &#x27;R5Hz_PP&#x27;,\n",
       "                                  &#x27;R20Hz_PP&#x27;, &#x27;X5Hz_PP&#x27;, &#x27;Fres_PP&#x27;]),\n",
       "                                (&#x27;cat&#x27;,\n",
       "                                 Pipeline(steps=[(&#x27;imputer&#x27;,\n",
       "                                                  SimpleImputer(strategy=&#x27;most_frequent&#x27;)),\n",
       "                                                 (&#x27;onehot&#x27;,\n",
       "                                                  OneHotEncoder(handle_unknown=&#x27;ignore&#x27;))]),\n",
       "                                 [&#x27;Hydroxyurea&#x27;, &#x27;ICS&#x27;, &#x27;LABA&#x27;, &#x27;Gender&#x27;])])</pre></div> </div></div><div class=\"sk-parallel\"><div class=\"sk-parallel-item\"><div class=\"sk-item\"><div class=\"sk-label-container\"><div class=\"sk-label fitted sk-toggleable\"><input class=\"sk-toggleable__control sk-hidden--visually\" id=\"sk-estimator-id-4\" type=\"checkbox\" ><label for=\"sk-estimator-id-4\" class=\"sk-toggleable__label fitted sk-toggleable__label-arrow\"><div><div>num</div></div></label><div class=\"sk-toggleable__content fitted\"><pre>[&#x27;Age&#x27;, &#x27;Height&#x27;, &#x27;Weight&#x27;, &#x27;BMI&#x27;, &#x27;R5Hz_PP&#x27;, &#x27;R20Hz_PP&#x27;, &#x27;X5Hz_PP&#x27;, &#x27;Fres_PP&#x27;]</pre></div> </div></div><div class=\"sk-serial\"><div class=\"sk-item\"><div class=\"sk-serial\"><div class=\"sk-item\"><div class=\"sk-estimator fitted sk-toggleable\"><input class=\"sk-toggleable__control sk-hidden--visually\" id=\"sk-estimator-id-5\" type=\"checkbox\" ><label for=\"sk-estimator-id-5\" class=\"sk-toggleable__label fitted sk-toggleable__label-arrow\"><div><div>SimpleImputer</div></div><div><a class=\"sk-estimator-doc-link fitted\" rel=\"noreferrer\" target=\"_blank\" href=\"https://scikit-learn.org/1.6/modules/generated/sklearn.impute.SimpleImputer.html\">?<span>Documentation for SimpleImputer</span></a></div></label><div class=\"sk-toggleable__content fitted\"><pre>SimpleImputer(strategy=&#x27;median&#x27;)</pre></div> </div></div><div class=\"sk-item\"><div class=\"sk-estimator fitted sk-toggleable\"><input class=\"sk-toggleable__control sk-hidden--visually\" id=\"sk-estimator-id-6\" type=\"checkbox\" ><label for=\"sk-estimator-id-6\" class=\"sk-toggleable__label fitted sk-toggleable__label-arrow\"><div><div>StandardScaler</div></div><div><a class=\"sk-estimator-doc-link fitted\" rel=\"noreferrer\" target=\"_blank\" href=\"https://scikit-learn.org/1.6/modules/generated/sklearn.preprocessing.StandardScaler.html\">?<span>Documentation for StandardScaler</span></a></div></label><div class=\"sk-toggleable__content fitted\"><pre>StandardScaler()</pre></div> </div></div></div></div></div></div></div><div class=\"sk-parallel-item\"><div class=\"sk-item\"><div class=\"sk-label-container\"><div class=\"sk-label fitted sk-toggleable\"><input class=\"sk-toggleable__control sk-hidden--visually\" id=\"sk-estimator-id-7\" type=\"checkbox\" ><label for=\"sk-estimator-id-7\" class=\"sk-toggleable__label fitted sk-toggleable__label-arrow\"><div><div>cat</div></div></label><div class=\"sk-toggleable__content fitted\"><pre>[&#x27;Hydroxyurea&#x27;, &#x27;ICS&#x27;, &#x27;LABA&#x27;, &#x27;Gender&#x27;]</pre></div> </div></div><div class=\"sk-serial\"><div class=\"sk-item\"><div class=\"sk-serial\"><div class=\"sk-item\"><div class=\"sk-estimator fitted sk-toggleable\"><input class=\"sk-toggleable__control sk-hidden--visually\" id=\"sk-estimator-id-8\" type=\"checkbox\" ><label for=\"sk-estimator-id-8\" class=\"sk-toggleable__label fitted sk-toggleable__label-arrow\"><div><div>SimpleImputer</div></div><div><a class=\"sk-estimator-doc-link fitted\" rel=\"noreferrer\" target=\"_blank\" href=\"https://scikit-learn.org/1.6/modules/generated/sklearn.impute.SimpleImputer.html\">?<span>Documentation for SimpleImputer</span></a></div></label><div class=\"sk-toggleable__content fitted\"><pre>SimpleImputer(strategy=&#x27;most_frequent&#x27;)</pre></div> </div></div><div class=\"sk-item\"><div class=\"sk-estimator fitted sk-toggleable\"><input class=\"sk-toggleable__control sk-hidden--visually\" id=\"sk-estimator-id-9\" type=\"checkbox\" ><label for=\"sk-estimator-id-9\" class=\"sk-toggleable__label fitted sk-toggleable__label-arrow\"><div><div>OneHotEncoder</div></div><div><a class=\"sk-estimator-doc-link fitted\" rel=\"noreferrer\" target=\"_blank\" href=\"https://scikit-learn.org/1.6/modules/generated/sklearn.preprocessing.OneHotEncoder.html\">?<span>Documentation for OneHotEncoder</span></a></div></label><div class=\"sk-toggleable__content fitted\"><pre>OneHotEncoder(handle_unknown=&#x27;ignore&#x27;)</pre></div> </div></div></div></div></div></div></div></div></div><div class=\"sk-item\"><div class=\"sk-estimator fitted sk-toggleable\"><input class=\"sk-toggleable__control sk-hidden--visually\" id=\"sk-estimator-id-10\" type=\"checkbox\" ><label for=\"sk-estimator-id-10\" class=\"sk-toggleable__label fitted sk-toggleable__label-arrow\"><div><div>RandomForestClassifier</div></div><div><a class=\"sk-estimator-doc-link fitted\" rel=\"noreferrer\" target=\"_blank\" href=\"https://scikit-learn.org/1.6/modules/generated/sklearn.ensemble.RandomForestClassifier.html\">?<span>Documentation for RandomForestClassifier</span></a></div></label><div class=\"sk-toggleable__content fitted\"><pre>RandomForestClassifier(max_depth=5, min_samples_leaf=2, min_samples_split=5,\n",
       "                       random_state=42)</pre></div> </div></div></div></div></div></div></div></div></div></div></div>"
      ],
      "text/plain": [
       "GridSearchCV(cv=5,\n",
       "             estimator=Pipeline(steps=[('preprocessor',\n",
       "                                        ColumnTransformer(transformers=[('num',\n",
       "                                                                         Pipeline(steps=[('imputer',\n",
       "                                                                                          SimpleImputer(strategy='median')),\n",
       "                                                                                         ('scaler',\n",
       "                                                                                          StandardScaler())]),\n",
       "                                                                         ['Age',\n",
       "                                                                          'Height',\n",
       "                                                                          'Weight',\n",
       "                                                                          'BMI',\n",
       "                                                                          'R5Hz_PP',\n",
       "                                                                          'R20Hz_PP',\n",
       "                                                                          'X5Hz_PP',\n",
       "                                                                          'Fres_PP']),\n",
       "                                                                        ('cat',\n",
       "                                                                         Pipeline(steps=[('imputer',\n",
       "                                                                                          SimpleImputer(strategy='most_frequent')),\n",
       "                                                                                         ('onehot',\n",
       "                                                                                          OneHotEncoder(handle_unknown='ignore'))]),\n",
       "                                                                         ['Hydroxyurea',\n",
       "                                                                          'ICS',\n",
       "                                                                          'LABA',\n",
       "                                                                          'Gender'])])),\n",
       "                                       ('classifier',\n",
       "                                        RandomForestClassifier(random_state=42))]),\n",
       "             n_jobs=-1,\n",
       "             param_grid={'classifier__max_depth': [5, 10, 15, None],\n",
       "                         'classifier__min_samples_leaf': [1, 2, 4],\n",
       "                         'classifier__min_samples_split': [2, 5, 10],\n",
       "                         'classifier__n_estimators': [100, 200, 300]},\n",
       "             scoring='f1', verbose=2)"
      ]
     },
     "execution_count": 31,
     "metadata": {},
     "output_type": "execute_result"
    }
   ],
   "source": [
    "# Détermination des Hyperparamètres\n",
    "\n",
    "param_grid = {\n",
    "    'classifier__n_estimators': [100, 200, 300],\n",
    "    'classifier__max_depth': [5, 10, 15, None],\n",
    "    'classifier__min_samples_split': [2, 5, 10],\n",
    "    'classifier__min_samples_leaf': [1, 2, 4]\n",
    "}\n",
    "\n",
    "grid_search = GridSearchCV(ml_model, param_grid, cv=5, scoring='f1', n_jobs=-1, verbose=2)\n",
    "grid_search.fit(X_train, y_train)"
   ]
  },
  {
   "cell_type": "code",
   "execution_count": 32,
   "id": "17acfb09",
   "metadata": {},
   "outputs": [
    {
     "name": "stdout",
     "output_type": "stream",
     "text": [
      "Les meilleurs hyperparamètres sont : {'classifier__max_depth': 5, 'classifier__min_samples_leaf': 2, 'classifier__min_samples_split': 5, 'classifier__n_estimators': 100}\n"
     ]
    }
   ],
   "source": [
    "print(\"Les meilleurs hyperparamètres sont :\", grid_search.best_params_)"
   ]
  },
  {
   "cell_type": "code",
   "execution_count": 33,
   "id": "f9044e94",
   "metadata": {},
   "outputs": [],
   "source": [
    "# Création du modèle final avec les hyperparamètres\n",
    "\n",
    "ML_Model = grid_search.best_estimator_"
   ]
  },
  {
   "cell_type": "code",
   "execution_count": 34,
   "id": "7976d932",
   "metadata": {},
   "outputs": [
    {
     "data": {
      "text/html": [
       "<style>#sk-container-id-2 {\n",
       "  /* Definition of color scheme common for light and dark mode */\n",
       "  --sklearn-color-text: #000;\n",
       "  --sklearn-color-text-muted: #666;\n",
       "  --sklearn-color-line: gray;\n",
       "  /* Definition of color scheme for unfitted estimators */\n",
       "  --sklearn-color-unfitted-level-0: #fff5e6;\n",
       "  --sklearn-color-unfitted-level-1: #f6e4d2;\n",
       "  --sklearn-color-unfitted-level-2: #ffe0b3;\n",
       "  --sklearn-color-unfitted-level-3: chocolate;\n",
       "  /* Definition of color scheme for fitted estimators */\n",
       "  --sklearn-color-fitted-level-0: #f0f8ff;\n",
       "  --sklearn-color-fitted-level-1: #d4ebff;\n",
       "  --sklearn-color-fitted-level-2: #b3dbfd;\n",
       "  --sklearn-color-fitted-level-3: cornflowerblue;\n",
       "\n",
       "  /* Specific color for light theme */\n",
       "  --sklearn-color-text-on-default-background: var(--sg-text-color, var(--theme-code-foreground, var(--jp-content-font-color1, black)));\n",
       "  --sklearn-color-background: var(--sg-background-color, var(--theme-background, var(--jp-layout-color0, white)));\n",
       "  --sklearn-color-border-box: var(--sg-text-color, var(--theme-code-foreground, var(--jp-content-font-color1, black)));\n",
       "  --sklearn-color-icon: #696969;\n",
       "\n",
       "  @media (prefers-color-scheme: dark) {\n",
       "    /* Redefinition of color scheme for dark theme */\n",
       "    --sklearn-color-text-on-default-background: var(--sg-text-color, var(--theme-code-foreground, var(--jp-content-font-color1, white)));\n",
       "    --sklearn-color-background: var(--sg-background-color, var(--theme-background, var(--jp-layout-color0, #111)));\n",
       "    --sklearn-color-border-box: var(--sg-text-color, var(--theme-code-foreground, var(--jp-content-font-color1, white)));\n",
       "    --sklearn-color-icon: #878787;\n",
       "  }\n",
       "}\n",
       "\n",
       "#sk-container-id-2 {\n",
       "  color: var(--sklearn-color-text);\n",
       "}\n",
       "\n",
       "#sk-container-id-2 pre {\n",
       "  padding: 0;\n",
       "}\n",
       "\n",
       "#sk-container-id-2 input.sk-hidden--visually {\n",
       "  border: 0;\n",
       "  clip: rect(1px 1px 1px 1px);\n",
       "  clip: rect(1px, 1px, 1px, 1px);\n",
       "  height: 1px;\n",
       "  margin: -1px;\n",
       "  overflow: hidden;\n",
       "  padding: 0;\n",
       "  position: absolute;\n",
       "  width: 1px;\n",
       "}\n",
       "\n",
       "#sk-container-id-2 div.sk-dashed-wrapped {\n",
       "  border: 1px dashed var(--sklearn-color-line);\n",
       "  margin: 0 0.4em 0.5em 0.4em;\n",
       "  box-sizing: border-box;\n",
       "  padding-bottom: 0.4em;\n",
       "  background-color: var(--sklearn-color-background);\n",
       "}\n",
       "\n",
       "#sk-container-id-2 div.sk-container {\n",
       "  /* jupyter's `normalize.less` sets `[hidden] { display: none; }`\n",
       "     but bootstrap.min.css set `[hidden] { display: none !important; }`\n",
       "     so we also need the `!important` here to be able to override the\n",
       "     default hidden behavior on the sphinx rendered scikit-learn.org.\n",
       "     See: https://github.com/scikit-learn/scikit-learn/issues/21755 */\n",
       "  display: inline-block !important;\n",
       "  position: relative;\n",
       "}\n",
       "\n",
       "#sk-container-id-2 div.sk-text-repr-fallback {\n",
       "  display: none;\n",
       "}\n",
       "\n",
       "div.sk-parallel-item,\n",
       "div.sk-serial,\n",
       "div.sk-item {\n",
       "  /* draw centered vertical line to link estimators */\n",
       "  background-image: linear-gradient(var(--sklearn-color-text-on-default-background), var(--sklearn-color-text-on-default-background));\n",
       "  background-size: 2px 100%;\n",
       "  background-repeat: no-repeat;\n",
       "  background-position: center center;\n",
       "}\n",
       "\n",
       "/* Parallel-specific style estimator block */\n",
       "\n",
       "#sk-container-id-2 div.sk-parallel-item::after {\n",
       "  content: \"\";\n",
       "  width: 100%;\n",
       "  border-bottom: 2px solid var(--sklearn-color-text-on-default-background);\n",
       "  flex-grow: 1;\n",
       "}\n",
       "\n",
       "#sk-container-id-2 div.sk-parallel {\n",
       "  display: flex;\n",
       "  align-items: stretch;\n",
       "  justify-content: center;\n",
       "  background-color: var(--sklearn-color-background);\n",
       "  position: relative;\n",
       "}\n",
       "\n",
       "#sk-container-id-2 div.sk-parallel-item {\n",
       "  display: flex;\n",
       "  flex-direction: column;\n",
       "}\n",
       "\n",
       "#sk-container-id-2 div.sk-parallel-item:first-child::after {\n",
       "  align-self: flex-end;\n",
       "  width: 50%;\n",
       "}\n",
       "\n",
       "#sk-container-id-2 div.sk-parallel-item:last-child::after {\n",
       "  align-self: flex-start;\n",
       "  width: 50%;\n",
       "}\n",
       "\n",
       "#sk-container-id-2 div.sk-parallel-item:only-child::after {\n",
       "  width: 0;\n",
       "}\n",
       "\n",
       "/* Serial-specific style estimator block */\n",
       "\n",
       "#sk-container-id-2 div.sk-serial {\n",
       "  display: flex;\n",
       "  flex-direction: column;\n",
       "  align-items: center;\n",
       "  background-color: var(--sklearn-color-background);\n",
       "  padding-right: 1em;\n",
       "  padding-left: 1em;\n",
       "}\n",
       "\n",
       "\n",
       "/* Toggleable style: style used for estimator/Pipeline/ColumnTransformer box that is\n",
       "clickable and can be expanded/collapsed.\n",
       "- Pipeline and ColumnTransformer use this feature and define the default style\n",
       "- Estimators will overwrite some part of the style using the `sk-estimator` class\n",
       "*/\n",
       "\n",
       "/* Pipeline and ColumnTransformer style (default) */\n",
       "\n",
       "#sk-container-id-2 div.sk-toggleable {\n",
       "  /* Default theme specific background. It is overwritten whether we have a\n",
       "  specific estimator or a Pipeline/ColumnTransformer */\n",
       "  background-color: var(--sklearn-color-background);\n",
       "}\n",
       "\n",
       "/* Toggleable label */\n",
       "#sk-container-id-2 label.sk-toggleable__label {\n",
       "  cursor: pointer;\n",
       "  display: flex;\n",
       "  width: 100%;\n",
       "  margin-bottom: 0;\n",
       "  padding: 0.5em;\n",
       "  box-sizing: border-box;\n",
       "  text-align: center;\n",
       "  align-items: start;\n",
       "  justify-content: space-between;\n",
       "  gap: 0.5em;\n",
       "}\n",
       "\n",
       "#sk-container-id-2 label.sk-toggleable__label .caption {\n",
       "  font-size: 0.6rem;\n",
       "  font-weight: lighter;\n",
       "  color: var(--sklearn-color-text-muted);\n",
       "}\n",
       "\n",
       "#sk-container-id-2 label.sk-toggleable__label-arrow:before {\n",
       "  /* Arrow on the left of the label */\n",
       "  content: \"▸\";\n",
       "  float: left;\n",
       "  margin-right: 0.25em;\n",
       "  color: var(--sklearn-color-icon);\n",
       "}\n",
       "\n",
       "#sk-container-id-2 label.sk-toggleable__label-arrow:hover:before {\n",
       "  color: var(--sklearn-color-text);\n",
       "}\n",
       "\n",
       "/* Toggleable content - dropdown */\n",
       "\n",
       "#sk-container-id-2 div.sk-toggleable__content {\n",
       "  max-height: 0;\n",
       "  max-width: 0;\n",
       "  overflow: hidden;\n",
       "  text-align: left;\n",
       "  /* unfitted */\n",
       "  background-color: var(--sklearn-color-unfitted-level-0);\n",
       "}\n",
       "\n",
       "#sk-container-id-2 div.sk-toggleable__content.fitted {\n",
       "  /* fitted */\n",
       "  background-color: var(--sklearn-color-fitted-level-0);\n",
       "}\n",
       "\n",
       "#sk-container-id-2 div.sk-toggleable__content pre {\n",
       "  margin: 0.2em;\n",
       "  border-radius: 0.25em;\n",
       "  color: var(--sklearn-color-text);\n",
       "  /* unfitted */\n",
       "  background-color: var(--sklearn-color-unfitted-level-0);\n",
       "}\n",
       "\n",
       "#sk-container-id-2 div.sk-toggleable__content.fitted pre {\n",
       "  /* unfitted */\n",
       "  background-color: var(--sklearn-color-fitted-level-0);\n",
       "}\n",
       "\n",
       "#sk-container-id-2 input.sk-toggleable__control:checked~div.sk-toggleable__content {\n",
       "  /* Expand drop-down */\n",
       "  max-height: 200px;\n",
       "  max-width: 100%;\n",
       "  overflow: auto;\n",
       "}\n",
       "\n",
       "#sk-container-id-2 input.sk-toggleable__control:checked~label.sk-toggleable__label-arrow:before {\n",
       "  content: \"▾\";\n",
       "}\n",
       "\n",
       "/* Pipeline/ColumnTransformer-specific style */\n",
       "\n",
       "#sk-container-id-2 div.sk-label input.sk-toggleable__control:checked~label.sk-toggleable__label {\n",
       "  color: var(--sklearn-color-text);\n",
       "  background-color: var(--sklearn-color-unfitted-level-2);\n",
       "}\n",
       "\n",
       "#sk-container-id-2 div.sk-label.fitted input.sk-toggleable__control:checked~label.sk-toggleable__label {\n",
       "  background-color: var(--sklearn-color-fitted-level-2);\n",
       "}\n",
       "\n",
       "/* Estimator-specific style */\n",
       "\n",
       "/* Colorize estimator box */\n",
       "#sk-container-id-2 div.sk-estimator input.sk-toggleable__control:checked~label.sk-toggleable__label {\n",
       "  /* unfitted */\n",
       "  background-color: var(--sklearn-color-unfitted-level-2);\n",
       "}\n",
       "\n",
       "#sk-container-id-2 div.sk-estimator.fitted input.sk-toggleable__control:checked~label.sk-toggleable__label {\n",
       "  /* fitted */\n",
       "  background-color: var(--sklearn-color-fitted-level-2);\n",
       "}\n",
       "\n",
       "#sk-container-id-2 div.sk-label label.sk-toggleable__label,\n",
       "#sk-container-id-2 div.sk-label label {\n",
       "  /* The background is the default theme color */\n",
       "  color: var(--sklearn-color-text-on-default-background);\n",
       "}\n",
       "\n",
       "/* On hover, darken the color of the background */\n",
       "#sk-container-id-2 div.sk-label:hover label.sk-toggleable__label {\n",
       "  color: var(--sklearn-color-text);\n",
       "  background-color: var(--sklearn-color-unfitted-level-2);\n",
       "}\n",
       "\n",
       "/* Label box, darken color on hover, fitted */\n",
       "#sk-container-id-2 div.sk-label.fitted:hover label.sk-toggleable__label.fitted {\n",
       "  color: var(--sklearn-color-text);\n",
       "  background-color: var(--sklearn-color-fitted-level-2);\n",
       "}\n",
       "\n",
       "/* Estimator label */\n",
       "\n",
       "#sk-container-id-2 div.sk-label label {\n",
       "  font-family: monospace;\n",
       "  font-weight: bold;\n",
       "  display: inline-block;\n",
       "  line-height: 1.2em;\n",
       "}\n",
       "\n",
       "#sk-container-id-2 div.sk-label-container {\n",
       "  text-align: center;\n",
       "}\n",
       "\n",
       "/* Estimator-specific */\n",
       "#sk-container-id-2 div.sk-estimator {\n",
       "  font-family: monospace;\n",
       "  border: 1px dotted var(--sklearn-color-border-box);\n",
       "  border-radius: 0.25em;\n",
       "  box-sizing: border-box;\n",
       "  margin-bottom: 0.5em;\n",
       "  /* unfitted */\n",
       "  background-color: var(--sklearn-color-unfitted-level-0);\n",
       "}\n",
       "\n",
       "#sk-container-id-2 div.sk-estimator.fitted {\n",
       "  /* fitted */\n",
       "  background-color: var(--sklearn-color-fitted-level-0);\n",
       "}\n",
       "\n",
       "/* on hover */\n",
       "#sk-container-id-2 div.sk-estimator:hover {\n",
       "  /* unfitted */\n",
       "  background-color: var(--sklearn-color-unfitted-level-2);\n",
       "}\n",
       "\n",
       "#sk-container-id-2 div.sk-estimator.fitted:hover {\n",
       "  /* fitted */\n",
       "  background-color: var(--sklearn-color-fitted-level-2);\n",
       "}\n",
       "\n",
       "/* Specification for estimator info (e.g. \"i\" and \"?\") */\n",
       "\n",
       "/* Common style for \"i\" and \"?\" */\n",
       "\n",
       ".sk-estimator-doc-link,\n",
       "a:link.sk-estimator-doc-link,\n",
       "a:visited.sk-estimator-doc-link {\n",
       "  float: right;\n",
       "  font-size: smaller;\n",
       "  line-height: 1em;\n",
       "  font-family: monospace;\n",
       "  background-color: var(--sklearn-color-background);\n",
       "  border-radius: 1em;\n",
       "  height: 1em;\n",
       "  width: 1em;\n",
       "  text-decoration: none !important;\n",
       "  margin-left: 0.5em;\n",
       "  text-align: center;\n",
       "  /* unfitted */\n",
       "  border: var(--sklearn-color-unfitted-level-1) 1pt solid;\n",
       "  color: var(--sklearn-color-unfitted-level-1);\n",
       "}\n",
       "\n",
       ".sk-estimator-doc-link.fitted,\n",
       "a:link.sk-estimator-doc-link.fitted,\n",
       "a:visited.sk-estimator-doc-link.fitted {\n",
       "  /* fitted */\n",
       "  border: var(--sklearn-color-fitted-level-1) 1pt solid;\n",
       "  color: var(--sklearn-color-fitted-level-1);\n",
       "}\n",
       "\n",
       "/* On hover */\n",
       "div.sk-estimator:hover .sk-estimator-doc-link:hover,\n",
       ".sk-estimator-doc-link:hover,\n",
       "div.sk-label-container:hover .sk-estimator-doc-link:hover,\n",
       ".sk-estimator-doc-link:hover {\n",
       "  /* unfitted */\n",
       "  background-color: var(--sklearn-color-unfitted-level-3);\n",
       "  color: var(--sklearn-color-background);\n",
       "  text-decoration: none;\n",
       "}\n",
       "\n",
       "div.sk-estimator.fitted:hover .sk-estimator-doc-link.fitted:hover,\n",
       ".sk-estimator-doc-link.fitted:hover,\n",
       "div.sk-label-container:hover .sk-estimator-doc-link.fitted:hover,\n",
       ".sk-estimator-doc-link.fitted:hover {\n",
       "  /* fitted */\n",
       "  background-color: var(--sklearn-color-fitted-level-3);\n",
       "  color: var(--sklearn-color-background);\n",
       "  text-decoration: none;\n",
       "}\n",
       "\n",
       "/* Span, style for the box shown on hovering the info icon */\n",
       ".sk-estimator-doc-link span {\n",
       "  display: none;\n",
       "  z-index: 9999;\n",
       "  position: relative;\n",
       "  font-weight: normal;\n",
       "  right: .2ex;\n",
       "  padding: .5ex;\n",
       "  margin: .5ex;\n",
       "  width: min-content;\n",
       "  min-width: 20ex;\n",
       "  max-width: 50ex;\n",
       "  color: var(--sklearn-color-text);\n",
       "  box-shadow: 2pt 2pt 4pt #999;\n",
       "  /* unfitted */\n",
       "  background: var(--sklearn-color-unfitted-level-0);\n",
       "  border: .5pt solid var(--sklearn-color-unfitted-level-3);\n",
       "}\n",
       "\n",
       ".sk-estimator-doc-link.fitted span {\n",
       "  /* fitted */\n",
       "  background: var(--sklearn-color-fitted-level-0);\n",
       "  border: var(--sklearn-color-fitted-level-3);\n",
       "}\n",
       "\n",
       ".sk-estimator-doc-link:hover span {\n",
       "  display: block;\n",
       "}\n",
       "\n",
       "/* \"?\"-specific style due to the `<a>` HTML tag */\n",
       "\n",
       "#sk-container-id-2 a.estimator_doc_link {\n",
       "  float: right;\n",
       "  font-size: 1rem;\n",
       "  line-height: 1em;\n",
       "  font-family: monospace;\n",
       "  background-color: var(--sklearn-color-background);\n",
       "  border-radius: 1rem;\n",
       "  height: 1rem;\n",
       "  width: 1rem;\n",
       "  text-decoration: none;\n",
       "  /* unfitted */\n",
       "  color: var(--sklearn-color-unfitted-level-1);\n",
       "  border: var(--sklearn-color-unfitted-level-1) 1pt solid;\n",
       "}\n",
       "\n",
       "#sk-container-id-2 a.estimator_doc_link.fitted {\n",
       "  /* fitted */\n",
       "  border: var(--sklearn-color-fitted-level-1) 1pt solid;\n",
       "  color: var(--sklearn-color-fitted-level-1);\n",
       "}\n",
       "\n",
       "/* On hover */\n",
       "#sk-container-id-2 a.estimator_doc_link:hover {\n",
       "  /* unfitted */\n",
       "  background-color: var(--sklearn-color-unfitted-level-3);\n",
       "  color: var(--sklearn-color-background);\n",
       "  text-decoration: none;\n",
       "}\n",
       "\n",
       "#sk-container-id-2 a.estimator_doc_link.fitted:hover {\n",
       "  /* fitted */\n",
       "  background-color: var(--sklearn-color-fitted-level-3);\n",
       "}\n",
       "</style><div id=\"sk-container-id-2\" class=\"sk-top-container\"><div class=\"sk-text-repr-fallback\"><pre>Pipeline(steps=[(&#x27;preprocessor&#x27;,\n",
       "                 ColumnTransformer(transformers=[(&#x27;num&#x27;,\n",
       "                                                  Pipeline(steps=[(&#x27;imputer&#x27;,\n",
       "                                                                   SimpleImputer(strategy=&#x27;median&#x27;)),\n",
       "                                                                  (&#x27;scaler&#x27;,\n",
       "                                                                   StandardScaler())]),\n",
       "                                                  [&#x27;Age&#x27;, &#x27;Height&#x27;, &#x27;Weight&#x27;,\n",
       "                                                   &#x27;BMI&#x27;, &#x27;R5Hz_PP&#x27;, &#x27;R20Hz_PP&#x27;,\n",
       "                                                   &#x27;X5Hz_PP&#x27;, &#x27;Fres_PP&#x27;]),\n",
       "                                                 (&#x27;cat&#x27;,\n",
       "                                                  Pipeline(steps=[(&#x27;imputer&#x27;,\n",
       "                                                                   SimpleImputer(strategy=&#x27;most_frequent&#x27;)),\n",
       "                                                                  (&#x27;onehot&#x27;,\n",
       "                                                                   OneHotEncoder(handle_unknown=&#x27;ignore&#x27;))]),\n",
       "                                                  [&#x27;Hydroxyurea&#x27;, &#x27;ICS&#x27;, &#x27;LABA&#x27;,\n",
       "                                                   &#x27;Gender&#x27;])])),\n",
       "                (&#x27;classifier&#x27;,\n",
       "                 RandomForestClassifier(max_depth=5, min_samples_leaf=2,\n",
       "                                        min_samples_split=5,\n",
       "                                        random_state=42))])</pre><b>In a Jupyter environment, please rerun this cell to show the HTML representation or trust the notebook. <br />On GitHub, the HTML representation is unable to render, please try loading this page with nbviewer.org.</b></div><div class=\"sk-container\" hidden><div class=\"sk-item sk-dashed-wrapped\"><div class=\"sk-label-container\"><div class=\"sk-label fitted sk-toggleable\"><input class=\"sk-toggleable__control sk-hidden--visually\" id=\"sk-estimator-id-11\" type=\"checkbox\" ><label for=\"sk-estimator-id-11\" class=\"sk-toggleable__label fitted sk-toggleable__label-arrow\"><div><div>Pipeline</div></div><div><a class=\"sk-estimator-doc-link fitted\" rel=\"noreferrer\" target=\"_blank\" href=\"https://scikit-learn.org/1.6/modules/generated/sklearn.pipeline.Pipeline.html\">?<span>Documentation for Pipeline</span></a><span class=\"sk-estimator-doc-link fitted\">i<span>Fitted</span></span></div></label><div class=\"sk-toggleable__content fitted\"><pre>Pipeline(steps=[(&#x27;preprocessor&#x27;,\n",
       "                 ColumnTransformer(transformers=[(&#x27;num&#x27;,\n",
       "                                                  Pipeline(steps=[(&#x27;imputer&#x27;,\n",
       "                                                                   SimpleImputer(strategy=&#x27;median&#x27;)),\n",
       "                                                                  (&#x27;scaler&#x27;,\n",
       "                                                                   StandardScaler())]),\n",
       "                                                  [&#x27;Age&#x27;, &#x27;Height&#x27;, &#x27;Weight&#x27;,\n",
       "                                                   &#x27;BMI&#x27;, &#x27;R5Hz_PP&#x27;, &#x27;R20Hz_PP&#x27;,\n",
       "                                                   &#x27;X5Hz_PP&#x27;, &#x27;Fres_PP&#x27;]),\n",
       "                                                 (&#x27;cat&#x27;,\n",
       "                                                  Pipeline(steps=[(&#x27;imputer&#x27;,\n",
       "                                                                   SimpleImputer(strategy=&#x27;most_frequent&#x27;)),\n",
       "                                                                  (&#x27;onehot&#x27;,\n",
       "                                                                   OneHotEncoder(handle_unknown=&#x27;ignore&#x27;))]),\n",
       "                                                  [&#x27;Hydroxyurea&#x27;, &#x27;ICS&#x27;, &#x27;LABA&#x27;,\n",
       "                                                   &#x27;Gender&#x27;])])),\n",
       "                (&#x27;classifier&#x27;,\n",
       "                 RandomForestClassifier(max_depth=5, min_samples_leaf=2,\n",
       "                                        min_samples_split=5,\n",
       "                                        random_state=42))])</pre></div> </div></div><div class=\"sk-serial\"><div class=\"sk-item sk-dashed-wrapped\"><div class=\"sk-label-container\"><div class=\"sk-label fitted sk-toggleable\"><input class=\"sk-toggleable__control sk-hidden--visually\" id=\"sk-estimator-id-12\" type=\"checkbox\" ><label for=\"sk-estimator-id-12\" class=\"sk-toggleable__label fitted sk-toggleable__label-arrow\"><div><div>preprocessor: ColumnTransformer</div></div><div><a class=\"sk-estimator-doc-link fitted\" rel=\"noreferrer\" target=\"_blank\" href=\"https://scikit-learn.org/1.6/modules/generated/sklearn.compose.ColumnTransformer.html\">?<span>Documentation for preprocessor: ColumnTransformer</span></a></div></label><div class=\"sk-toggleable__content fitted\"><pre>ColumnTransformer(transformers=[(&#x27;num&#x27;,\n",
       "                                 Pipeline(steps=[(&#x27;imputer&#x27;,\n",
       "                                                  SimpleImputer(strategy=&#x27;median&#x27;)),\n",
       "                                                 (&#x27;scaler&#x27;, StandardScaler())]),\n",
       "                                 [&#x27;Age&#x27;, &#x27;Height&#x27;, &#x27;Weight&#x27;, &#x27;BMI&#x27;, &#x27;R5Hz_PP&#x27;,\n",
       "                                  &#x27;R20Hz_PP&#x27;, &#x27;X5Hz_PP&#x27;, &#x27;Fres_PP&#x27;]),\n",
       "                                (&#x27;cat&#x27;,\n",
       "                                 Pipeline(steps=[(&#x27;imputer&#x27;,\n",
       "                                                  SimpleImputer(strategy=&#x27;most_frequent&#x27;)),\n",
       "                                                 (&#x27;onehot&#x27;,\n",
       "                                                  OneHotEncoder(handle_unknown=&#x27;ignore&#x27;))]),\n",
       "                                 [&#x27;Hydroxyurea&#x27;, &#x27;ICS&#x27;, &#x27;LABA&#x27;, &#x27;Gender&#x27;])])</pre></div> </div></div><div class=\"sk-parallel\"><div class=\"sk-parallel-item\"><div class=\"sk-item\"><div class=\"sk-label-container\"><div class=\"sk-label fitted sk-toggleable\"><input class=\"sk-toggleable__control sk-hidden--visually\" id=\"sk-estimator-id-13\" type=\"checkbox\" ><label for=\"sk-estimator-id-13\" class=\"sk-toggleable__label fitted sk-toggleable__label-arrow\"><div><div>num</div></div></label><div class=\"sk-toggleable__content fitted\"><pre>[&#x27;Age&#x27;, &#x27;Height&#x27;, &#x27;Weight&#x27;, &#x27;BMI&#x27;, &#x27;R5Hz_PP&#x27;, &#x27;R20Hz_PP&#x27;, &#x27;X5Hz_PP&#x27;, &#x27;Fres_PP&#x27;]</pre></div> </div></div><div class=\"sk-serial\"><div class=\"sk-item\"><div class=\"sk-serial\"><div class=\"sk-item\"><div class=\"sk-estimator fitted sk-toggleable\"><input class=\"sk-toggleable__control sk-hidden--visually\" id=\"sk-estimator-id-14\" type=\"checkbox\" ><label for=\"sk-estimator-id-14\" class=\"sk-toggleable__label fitted sk-toggleable__label-arrow\"><div><div>SimpleImputer</div></div><div><a class=\"sk-estimator-doc-link fitted\" rel=\"noreferrer\" target=\"_blank\" href=\"https://scikit-learn.org/1.6/modules/generated/sklearn.impute.SimpleImputer.html\">?<span>Documentation for SimpleImputer</span></a></div></label><div class=\"sk-toggleable__content fitted\"><pre>SimpleImputer(strategy=&#x27;median&#x27;)</pre></div> </div></div><div class=\"sk-item\"><div class=\"sk-estimator fitted sk-toggleable\"><input class=\"sk-toggleable__control sk-hidden--visually\" id=\"sk-estimator-id-15\" type=\"checkbox\" ><label for=\"sk-estimator-id-15\" class=\"sk-toggleable__label fitted sk-toggleable__label-arrow\"><div><div>StandardScaler</div></div><div><a class=\"sk-estimator-doc-link fitted\" rel=\"noreferrer\" target=\"_blank\" href=\"https://scikit-learn.org/1.6/modules/generated/sklearn.preprocessing.StandardScaler.html\">?<span>Documentation for StandardScaler</span></a></div></label><div class=\"sk-toggleable__content fitted\"><pre>StandardScaler()</pre></div> </div></div></div></div></div></div></div><div class=\"sk-parallel-item\"><div class=\"sk-item\"><div class=\"sk-label-container\"><div class=\"sk-label fitted sk-toggleable\"><input class=\"sk-toggleable__control sk-hidden--visually\" id=\"sk-estimator-id-16\" type=\"checkbox\" ><label for=\"sk-estimator-id-16\" class=\"sk-toggleable__label fitted sk-toggleable__label-arrow\"><div><div>cat</div></div></label><div class=\"sk-toggleable__content fitted\"><pre>[&#x27;Hydroxyurea&#x27;, &#x27;ICS&#x27;, &#x27;LABA&#x27;, &#x27;Gender&#x27;]</pre></div> </div></div><div class=\"sk-serial\"><div class=\"sk-item\"><div class=\"sk-serial\"><div class=\"sk-item\"><div class=\"sk-estimator fitted sk-toggleable\"><input class=\"sk-toggleable__control sk-hidden--visually\" id=\"sk-estimator-id-17\" type=\"checkbox\" ><label for=\"sk-estimator-id-17\" class=\"sk-toggleable__label fitted sk-toggleable__label-arrow\"><div><div>SimpleImputer</div></div><div><a class=\"sk-estimator-doc-link fitted\" rel=\"noreferrer\" target=\"_blank\" href=\"https://scikit-learn.org/1.6/modules/generated/sklearn.impute.SimpleImputer.html\">?<span>Documentation for SimpleImputer</span></a></div></label><div class=\"sk-toggleable__content fitted\"><pre>SimpleImputer(strategy=&#x27;most_frequent&#x27;)</pre></div> </div></div><div class=\"sk-item\"><div class=\"sk-estimator fitted sk-toggleable\"><input class=\"sk-toggleable__control sk-hidden--visually\" id=\"sk-estimator-id-18\" type=\"checkbox\" ><label for=\"sk-estimator-id-18\" class=\"sk-toggleable__label fitted sk-toggleable__label-arrow\"><div><div>OneHotEncoder</div></div><div><a class=\"sk-estimator-doc-link fitted\" rel=\"noreferrer\" target=\"_blank\" href=\"https://scikit-learn.org/1.6/modules/generated/sklearn.preprocessing.OneHotEncoder.html\">?<span>Documentation for OneHotEncoder</span></a></div></label><div class=\"sk-toggleable__content fitted\"><pre>OneHotEncoder(handle_unknown=&#x27;ignore&#x27;)</pre></div> </div></div></div></div></div></div></div></div></div><div class=\"sk-item\"><div class=\"sk-estimator fitted sk-toggleable\"><input class=\"sk-toggleable__control sk-hidden--visually\" id=\"sk-estimator-id-19\" type=\"checkbox\" ><label for=\"sk-estimator-id-19\" class=\"sk-toggleable__label fitted sk-toggleable__label-arrow\"><div><div>RandomForestClassifier</div></div><div><a class=\"sk-estimator-doc-link fitted\" rel=\"noreferrer\" target=\"_blank\" href=\"https://scikit-learn.org/1.6/modules/generated/sklearn.ensemble.RandomForestClassifier.html\">?<span>Documentation for RandomForestClassifier</span></a></div></label><div class=\"sk-toggleable__content fitted\"><pre>RandomForestClassifier(max_depth=5, min_samples_leaf=2, min_samples_split=5,\n",
       "                       random_state=42)</pre></div> </div></div></div></div></div></div>"
      ],
      "text/plain": [
       "Pipeline(steps=[('preprocessor',\n",
       "                 ColumnTransformer(transformers=[('num',\n",
       "                                                  Pipeline(steps=[('imputer',\n",
       "                                                                   SimpleImputer(strategy='median')),\n",
       "                                                                  ('scaler',\n",
       "                                                                   StandardScaler())]),\n",
       "                                                  ['Age', 'Height', 'Weight',\n",
       "                                                   'BMI', 'R5Hz_PP', 'R20Hz_PP',\n",
       "                                                   'X5Hz_PP', 'Fres_PP']),\n",
       "                                                 ('cat',\n",
       "                                                  Pipeline(steps=[('imputer',\n",
       "                                                                   SimpleImputer(strategy='most_frequent')),\n",
       "                                                                  ('onehot',\n",
       "                                                                   OneHotEncoder(handle_unknown='ignore'))]),\n",
       "                                                  ['Hydroxyurea', 'ICS', 'LABA',\n",
       "                                                   'Gender'])])),\n",
       "                ('classifier',\n",
       "                 RandomForestClassifier(max_depth=5, min_samples_leaf=2,\n",
       "                                        min_samples_split=5,\n",
       "                                        random_state=42))])"
      ]
     },
     "execution_count": 34,
     "metadata": {},
     "output_type": "execute_result"
    }
   ],
   "source": [
    "# Entraînement du modèle\n",
    "ML_Model.fit(X_train, y_train)"
   ]
  },
  {
   "cell_type": "code",
   "execution_count": 35,
   "id": "8187df2b",
   "metadata": {},
   "outputs": [],
   "source": [
    "y_pred = ML_Model.predict(X_test)\n",
    "y_proba = ML_Model.predict_proba(X_test)[:, 1]"
   ]
  },
  {
   "cell_type": "code",
   "execution_count": 36,
   "id": "a62f621f",
   "metadata": {},
   "outputs": [
    {
     "name": "stdout",
     "output_type": "stream",
     "text": [
      "\n",
      "Classification Report:\n",
      "              precision    recall  f1-score   support\n",
      "\n",
      "           0       0.93      0.98      0.96       143\n",
      "           1       0.97      0.90      0.93        97\n",
      "\n",
      "    accuracy                           0.95       240\n",
      "   macro avg       0.95      0.94      0.94       240\n",
      "weighted avg       0.95      0.95      0.95       240\n",
      "\n"
     ]
    }
   ],
   "source": [
    "print(\"\\nClassification Report:\")\n",
    "print(classification_report(y_test, y_pred))"
   ]
  },
  {
   "cell_type": "code",
   "execution_count": 37,
   "id": "50677003",
   "metadata": {},
   "outputs": [
    {
     "name": "stdout",
     "output_type": "stream",
     "text": [
      "ROC AUC Score: 0.9842837574796338\n"
     ]
    }
   ],
   "source": [
    "print(\"ROC AUC Score:\", roc_auc_score(y_test, y_proba))"
   ]
  },
  {
   "cell_type": "code",
   "execution_count": 38,
   "id": "3168f21f",
   "metadata": {},
   "outputs": [],
   "source": [
    "from sklearn.metrics import accuracy_score, roc_auc_score, recall_score, precision_score, f1_score, cohen_kappa_score, matthews_corrcoef\n",
    "import pickle"
   ]
  },
  {
   "cell_type": "code",
   "execution_count": 39,
   "id": "9c4545d9",
   "metadata": {},
   "outputs": [
    {
     "data": {
      "text/plain": [
       "{'Modèle': Pipeline(steps=[('preprocessor',\n",
       "                  ColumnTransformer(transformers=[('num',\n",
       "                                                   Pipeline(steps=[('imputer',\n",
       "                                                                    SimpleImputer(strategy='median')),\n",
       "                                                                   ('scaler',\n",
       "                                                                    StandardScaler())]),\n",
       "                                                   ['Age', 'Height', 'Weight',\n",
       "                                                    'BMI', 'R5Hz_PP', 'R20Hz_PP',\n",
       "                                                    'X5Hz_PP', 'Fres_PP']),\n",
       "                                                  ('cat',\n",
       "                                                   Pipeline(steps=[('imputer',\n",
       "                                                                    SimpleImputer(strategy='most_frequent')),\n",
       "                                                                   ('onehot',\n",
       "                                                                    OneHotEncoder(handle_unknown='ignore'))]),\n",
       "                                                   ['Hydroxyurea', 'ICS', 'LABA',\n",
       "                                                    'Gender'])])),\n",
       "                 ('classifier',\n",
       "                  RandomForestClassifier(max_depth=5, min_samples_leaf=2,\n",
       "                                         min_samples_split=5,\n",
       "                                         random_state=42))]),\n",
       " 'Meilleurs paramètres': {'classifier__max_depth': 5,\n",
       "  'classifier__min_samples_leaf': 2,\n",
       "  'classifier__min_samples_split': 5,\n",
       "  'classifier__n_estimators': 100},\n",
       " 'Accuracy': 0.9458333333333333,\n",
       " 'Recall': 0.9379640977579122,\n",
       " 'Precision': 0.95,\n",
       " 'F1-score': 0.9430563413699331,\n",
       " 'Kappa': 0.886214442013129,\n",
       " 'MCC': 0.887882523740749}"
      ]
     },
     "execution_count": 39,
     "metadata": {},
     "output_type": "execute_result"
    }
   ],
   "source": [
    "# Binarisation pour AUC multiclass\n",
    "# Binariser y_test pour le calcul de l'AUC multi-classe\n",
    "classes = ML_Model.classes_  # ou np.unique(y_test)\n",
    "y_test_bin = label_binarize(y_test, classes=classes)\n",
    "\n",
    "# Prédiction\n",
    "y_pred = ML_Model.predict(X_test)\n",
    "y_proba = ML_Model.predict_proba(X_test)\n",
    "\n",
    "# Calcul des métriques\n",
    "metrics = {\n",
    "    \"Modèle\": ML_Model,\n",
    "    \"Meilleurs paramètres\": grid_search.best_params_,\n",
    "    \"Accuracy\": accuracy_score(y_test, y_pred),\n",
    "    \"Recall\": recall_score(y_test, y_pred, average='macro'),\n",
    "    \"Precision\": precision_score(y_test, y_pred, average='macro'),\n",
    "    \"F1-score\": f1_score(y_test, y_pred, average='macro'),\n",
    "    \"Kappa\": cohen_kappa_score(y_test, y_pred),\n",
    "    \"MCC\": matthews_corrcoef(y_test, y_pred)\n",
    "}\n",
    "\n",
    "# Affichage des résultats\n",
    "metrics"
   ]
  },
  {
   "cell_type": "code",
   "execution_count": 40,
   "id": "89d604a9",
   "metadata": {},
   "outputs": [
    {
     "name": "stdout",
     "output_type": "stream",
     "text": [
      "              precision    recall  f1-score   support\n",
      "\n",
      "           0       0.93      0.98      0.96       143\n",
      "           1       0.97      0.90      0.93        97\n",
      "\n",
      "    accuracy                           0.95       240\n",
      "   macro avg       0.95      0.94      0.94       240\n",
      "weighted avg       0.95      0.95      0.95       240\n",
      "\n",
      "[[140   3]\n",
      " [ 10  87]]\n"
     ]
    },
    {
     "data": {
      "image/png": "[encoded data removed]",
      "text/plain": [
       "<Figure size 640x480 with 2 Axes>"
      ]
     },
     "metadata": {},
     "output_type": "display_data"
    }
   ],
   "source": [
    "from sklearn.metrics import classification_report, confusion_matrix, ConfusionMatrixDisplay\n",
    "\n",
    "y_pred = ML_Model.predict(X_test)\n",
    "print(classification_report(y_test, y_pred))\n",
    "print(confusion_matrix(y_test, y_pred))\n",
    "\n",
    "# Matrice de confusion\n",
    "cm = confusion_matrix(y_test, y_pred)\n",
    "disp = ConfusionMatrixDisplay(confusion_matrix=cm, display_labels=[\"Normal\", \"Asthmatique\"])\n",
    "disp.plot(cmap=\"Blues\")\n",
    "plt.title(\"Matrice de confusion\")\n",
    "plt.show()"
   ]
  },
  {
   "cell_type": "code",
   "execution_count": 41,
   "id": "3139b825",
   "metadata": {},
   "outputs": [
    {
     "data": {
      "image/png": "[encoded data removed]",
      "text/plain": [
       "<Figure size 800x600 with 1 Axes>"
      ]
     },
     "metadata": {},
     "output_type": "display_data"
    },
    {
     "data": {
      "image/png": "[encoded data removed]",
      "text/plain": [
       "<Figure size 800x600 with 1 Axes>"
      ]
     },
     "metadata": {},
     "output_type": "display_data"
    }
   ],
   "source": [
    "from sklearn.model_selection import learning_curve, validation_curve\n",
    "\n",
    "\n",
    "# COURBE D'APPRENTISSAGE\n",
    "train_sizes, train_scores, val_scores = learning_curve(\n",
    "    ML_Model,\n",
    "    X_train,\n",
    "    y_train,\n",
    "    cv=5,\n",
    "    scoring='f1_macro',\n",
    "    train_sizes=np.linspace(0.1, 1.0, 10),\n",
    "    n_jobs=-1\n",
    ")\n",
    "\n",
    "# Moyennes et écarts-types\n",
    "train_mean = np.mean(train_scores, axis=1)\n",
    "train_std = np.std(train_scores, axis=1)\n",
    "val_mean = np.mean(val_scores, axis=1)\n",
    "val_std = np.std(val_scores, axis=1)\n",
    "\n",
    "# Plot\n",
    "plt.figure(figsize=(8,6))\n",
    "plt.plot(train_sizes, train_mean, 'o-', color=\"r\", label=\"Accuracy entraînement\")\n",
    "plt.fill_between(train_sizes, train_mean - train_std, train_mean + train_std, alpha=0.1, color=\"r\")\n",
    "plt.plot(train_sizes, val_mean, 'o-', color=\"g\", label=\"Accuracy validation\")\n",
    "plt.fill_between(train_sizes, val_mean - val_std, val_mean + val_std, alpha=0.1, color=\"g\")\n",
    "plt.title(\"Courbe d'apprentissage RandomForestClassifier\")\n",
    "plt.xlabel(\"Nombre d'exemples d'entraînement\")\n",
    "plt.ylabel(\"Accuracy\")\n",
    "plt.legend(loc=\"best\")\n",
    "plt.grid()\n",
    "plt.show()\n",
    "\n",
    "\n",
    "# COURBE DE VALIDATION\n",
    "\n",
    "# Exemple avec l'hyperparamètre max_depth\n",
    "\n",
    "param_range = np.arange(1, 11)\n",
    "\n",
    "train_scores, val_scores = validation_curve(\n",
    "    ML_Model,\n",
    "    X_train,\n",
    "    y_train,\n",
    "    param_name=\"classifier__max_depth\",\n",
    "    param_range=param_range,\n",
    "    cv=5,\n",
    "    scoring=\"accuracy\",\n",
    "    n_jobs=-1\n",
    ")\n",
    "\n",
    "# Moyennes et écarts-types\n",
    "train_mean = np.mean(train_scores, axis=1)\n",
    "train_std = np.std(train_scores, axis=1)\n",
    "val_mean = np.mean(val_scores, axis=1)\n",
    "val_std = np.std(val_scores, axis=1)\n",
    "\n",
    "# Plot\n",
    "plt.figure(figsize=(8,6))\n",
    "plt.plot(param_range, train_mean, 'o-', color=\"r\", label=\"Accuracy entraînement\")\n",
    "plt.fill_between(param_range, train_mean - train_std, train_mean + train_std, alpha=0.1, color=\"r\")\n",
    "plt.plot(param_range, val_mean, 'o-', color=\"g\", label=\"Accuracy validation\")\n",
    "plt.fill_between(param_range, val_mean - val_std, val_mean + val_std, alpha=0.1, color=\"g\")\n",
    "plt.title(\"Courbe de validation RandomForestClassifier (max_depth)\")\n",
    "plt.xlabel(\"max_depth\")\n",
    "plt.ylabel(\"F1 Score\")\n",
    "plt.legend(loc=\"best\")\n",
    "plt.grid()\n",
    "plt.show()"
   ]
  },
  {
   "cell_type": "code",
   "execution_count": 42,
   "id": "f533cc55",
   "metadata": {},
   "outputs": [
    {
     "data": {
      "image/png": "[encoded data removed]",
      "text/plain": [
       "<Figure size 500x500 with 1 Axes>"
      ]
     },
     "metadata": {},
     "output_type": "display_data"
    }
   ],
   "source": [
    "from sklearn.model_selection import learning_curve\n",
    "import matplotlib.pyplot as plt\n",
    "import numpy as np\n",
    "\n",
    "\n",
    "# Apprentissage & validation\n",
    "train_sizes, train_scores, val_scores = learning_curve(\n",
    "    ML_Model,\n",
    "    X_train,\n",
    "    y_train,\n",
    "    cv=5,\n",
    "    scoring='accuracy',\n",
    "    n_jobs=-1,\n",
    "    train_sizes=np.linspace(0.1, 1.0, 10),\n",
    "    shuffle=True,\n",
    "    random_state=42\n",
    ")\n",
    "\n",
    "# Moyenne et écart-type\n",
    "train_scores_mean = np.mean(train_scores, axis=1)\n",
    "train_scores_std = np.std(train_scores, axis=1)\n",
    "val_scores_mean = np.mean(val_scores, axis=1)\n",
    "val_scores_std = np.std(val_scores, axis=1)\n",
    "\n",
    "# Affichage\n",
    "plt.figure(figsize=(5, 5))\n",
    "plt.plot(train_sizes, train_scores_mean, 'o-', color='blue', label='Score d’entraînement')\n",
    "plt.plot(train_sizes, val_scores_mean, 'o-', color='orange', label='Score de validation')\n",
    "\n",
    "# Remplissage des zones d'écart-type\n",
    "plt.fill_between(train_sizes,\n",
    "                 train_scores_mean - train_scores_std,\n",
    "                 train_scores_mean + train_scores_std,\n",
    "                 alpha=0.2, color='blue')\n",
    "plt.fill_between(train_sizes,\n",
    "                 val_scores_mean - val_scores_std,\n",
    "                 val_scores_mean + val_scores_std,\n",
    "                 alpha=0.2, color='orange')\n",
    "\n",
    "plt.title(\"Courbe d'apprentissage du modèle\")\n",
    "plt.xlabel(\"Taille de l'ensemble d'entraînement\")\n",
    "plt.ylabel(\"Score (Accuracy)\")\n",
    "plt.legend(loc=\"best\")\n",
    "plt.grid(True)\n",
    "plt.tight_layout()\n",
    "plt.show()"
   ]
  },
  {
   "cell_type": "code",
   "execution_count": 43,
   "id": "17bfbb67",
   "metadata": {},
   "outputs": [],
   "source": [
    "from sklearn.model_selection import cross_val_score"
   ]
  },
  {
   "cell_type": "code",
   "execution_count": 44,
   "id": "91766d36",
   "metadata": {},
   "outputs": [
    {
     "name": "stdout",
     "output_type": "stream",
     "text": [
      "Scores CV : [0.94583333 0.9375     0.92083333 0.975      0.95416667]\n",
      "Mean CV Accuracy : 0.9466666666666667\n",
      "Std CV Accuracy : 0.017950549357115025\n"
     ]
    }
   ],
   "source": [
    "# Validation croisée globale\n",
    "cv_scores = cross_val_score(ML_Model, X, y, cv=5, scoring='accuracy')\n",
    "print(\"Scores CV :\", cv_scores)\n",
    "print(\"Mean CV Accuracy :\", cv_scores.mean())\n",
    "print(\"Std CV Accuracy :\", cv_scores.std())"
   ]
  },
  {
   "cell_type": "code",
   "execution_count": 45,
   "id": "0a94c5d8",
   "metadata": {},
   "outputs": [
    {
     "data": {
      "image/png": "[encoded data removed]",
      "text/plain": [
       "<Figure size 640x480 with 1 Axes>"
      ]
     },
     "metadata": {},
     "output_type": "display_data"
    }
   ],
   "source": [
    "from sklearn.metrics import RocCurveDisplay\n",
    "# Courbe ROC\n",
    "RocCurveDisplay.from_estimator(ML_Model, X_test, y_test)\n",
    "plt.show()"
   ]
  },
  {
   "cell_type": "code",
   "execution_count": 46,
   "id": "e8d6d22f",
   "metadata": {},
   "outputs": [
    {
     "name": "stdout",
     "output_type": "stream",
     "text": [
      "ROC AUC Score: 0.9842837574796338\n"
     ]
    }
   ],
   "source": [
    "print(\"ROC AUC Score:\", roc_auc_score(y_test, ML_Model.predict_proba(X_test)[:, 1]))"
   ]
  },
  {
   "cell_type": "code",
   "execution_count": 47,
   "id": "13a1b50b",
   "metadata": {},
   "outputs": [],
   "source": [
    "# Sauvegarde du modèle avec pickle\n",
    "import pickle\n",
    "pickle.dump(ML_Model, open('ml_model_asthma.pkl', 'wb'))"
   ]
  }
 ],
 "metadata": {
  "kernelspec": {
   "display_name": "python",
   "language": "python",
   "name": "python3"
  },
  "language_info": {
   "codemirror_mode": {
    "name": "ipython",
    "version": 3
   },
   "file_extension": ".py",
   "mimetype": "text/x-python",
   "name": "python",
   "nbconvert_exporter": "python",
   "pygments_lexer": "ipython3",
   "version": "3.10.11"
  }
 },
 "nbformat": 4,
 "nbformat_minor": 5
}
